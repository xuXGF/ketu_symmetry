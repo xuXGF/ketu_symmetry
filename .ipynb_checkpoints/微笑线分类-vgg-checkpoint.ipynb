{
 "cells": [
  {
   "cell_type": "code",
   "execution_count": 1,
   "id": "09c870fa",
   "metadata": {},
   "outputs": [
    {
     "name": "stderr",
     "output_type": "stream",
     "text": [
      "C:\\Users\\windows\\.conda\\envs\\torch\\lib\\site-packages\\tqdm\\auto.py:21: TqdmWarning: IProgress not found. Please update jupyter and ipywidgets. See https://ipywidgets.readthedocs.io/en/stable/user_install.html\n",
      "  from .autonotebook import tqdm as notebook_tqdm\n",
      "INFO:albumentations.check_version:A new version of Albumentations is available: 1.4.12 (you have 1.4.11). Upgrade using: pip install --upgrade albumentations\n"
     ]
    }
   ],
   "source": [
    "from torch.utils.data import Dataset\n",
    "import torch\n",
    "import os\n",
    "from torchvision.io import read_image,ImageReadMode\n",
    "from PIL import Image\n",
    "import numpy as np\n",
    "import torch.nn as nn\n",
    "from torchvision import transforms\n",
    "from torch.utils.data import DataLoader\n",
    "from albumentations.pytorch import ToTensorV2\n",
    "from matplotlib import pyplot as plt\n",
    "import albumentations as A\n",
    "import cv2\n",
    "from torch.nn import functional as F\n",
    "\n",
    "class SmileDataset(Dataset):\n",
    "    def __init__(self, data_dir,transform=None):\n",
    "        self.label_name = {\"Low\": 0, \"Medium\": 1, \"High\": 2}\n",
    "        # data_info存储所有图片路径和标签，在DataLoader中通过index读取样本\n",
    "        self.data_info = self.get_img_info(data_dir)  \n",
    "        self.transform = transform\n",
    "\n",
    "    def __getitem__(self, index):\n",
    "        path_img, label = self.data_info[index]\n",
    "        img = Image.open(path_img).convert('RGB')\n",
    "        # 调整尺寸\n",
    "        img = img.resize((224, 128))\n",
    "        img_array = np.array(img)\n",
    "        if self.transform is not None:\n",
    "            transformed = transform(image=img_array)\n",
    "            img = transformed['image']\n",
    "#         # 标准化\n",
    "#         mean = np.mean(img)\n",
    "#         std_dev = np.std(img)\n",
    "#         img = (img - mean) / std_dev\n",
    "#         # 调整通道\n",
    "#         img = np.transpose(img, (2, 0, 1)) \n",
    "        label = torch.from_numpy(np.array(label))\n",
    "        return img, label\n",
    "\n",
    "    def __len__(self):\n",
    "        return len(self.data_info)\n",
    "\n",
    "    def get_img_info(self,data_dir):\n",
    "        data_info = list()\n",
    "        for root, dirs, _ in os.walk(data_dir):\n",
    "            # 遍历类别\n",
    "            for sub_dir in dirs:\n",
    "                img_names = os.listdir(os.path.join(root, sub_dir))\n",
    "                img_names = list(filter(lambda x: x.endswith('.jpg'), img_names))\n",
    "\n",
    "                # 遍历图片\n",
    "                for i in range(len(img_names)):\n",
    "                    img_name = img_names[i]\n",
    "                    path_img = os.path.join(root, sub_dir, img_name)\n",
    "                    label = sub_dir\n",
    "                    data_info.append((path_img, int(label)))\n",
    "\n",
    "        return data_info"
   ]
  },
  {
   "cell_type": "code",
   "execution_count": 2,
   "id": "866c283b",
   "metadata": {},
   "outputs": [],
   "source": [
    "# 数据的路径\n",
    "split_dir = './mouth/'\n",
    "train_dir = os.path.join(split_dir, 'train/')\n",
    "valid_dir = os.path.join(split_dir, 'val/')\n",
    "\n",
    "# 定义图像增强流水线\n",
    "transform = A.Compose([\n",
    "    A.HorizontalFlip(p=0.5),  #水平翻转\n",
    "    A.ShiftScaleRotate(shift_limit=0.1, scale_limit=0, rotate_limit=15, p=0.5),   # 平移、缩放和旋转\n",
    "    ToTensorV2()\n",
    "#     A.Sharpen(alpha=(0.2, 0.5), lightness=(0.5, 1.0), p=0.5),  # 锐化操作\n",
    "#     A.ColorJitter(brightness=0.2, contrast=0.2, saturation=0.2, hue=0.2, p=0.5),    # 颜色抖动\n",
    "#     A.Normalize(mean=(0.485, 0.456, 0.406), std=(0.229, 0.224, 0.225)),\n",
    "])\n",
    "BATCH_SIZE = 8\n",
    "## 构建MyDataset实例\n",
    "train_data = SmileDataset(data_dir=train_dir, transform=transform)\n",
    "valid_data = SmileDataset(data_dir=valid_dir, transform=transform)\n",
    "\n",
    "# 构建DataLoader\n",
    "train_loader = DataLoader(dataset=train_data, batch_size=BATCH_SIZE, shuffle=True)\n",
    "valid_loader = DataLoader(dataset=valid_data, batch_size=BATCH_SIZE, shuffle=True)"
   ]
  },
  {
   "cell_type": "code",
   "execution_count": 3,
   "id": "b1d2ec02",
   "metadata": {},
   "outputs": [],
   "source": [
    "def convertimg(img,channel):\n",
    "    if channel ==3:\n",
    "        img = np.transpose(img.numpy(),(1,2,0))\n",
    "    else:\n",
    "        img = np.squeeze(img.numpy())\n",
    "    return img"
   ]
  },
  {
   "cell_type": "code",
   "execution_count": 4,
   "id": "07cbb7cc",
   "metadata": {
    "scrolled": true
   },
   "outputs": [
    {
     "name": "stdout",
     "output_type": "stream",
     "text": [
      "torch.Size([8, 3, 128, 224]) torch.Size([8])\n"
     ]
    },
    {
     "data": {
      "image/png": "[encoded data removed]",
      "text/plain": [
       "<Figure size 640x480 with 7 Axes>"
      ]
     },
     "metadata": {},
     "output_type": "display_data"
    }
   ],
   "source": [
    "image,label = next(iter(train_loader))\n",
    "print(image.shape,label.shape)\n",
    "label = label.numpy()\n",
    "for i in range(7):\n",
    "    temp = i+1\n",
    "    plt.subplot(1,7,temp)\n",
    "    plt.imshow(convertimg(image[temp],3))\n",
    "    plt.title(label[temp]) \n",
    "    plt.subplots_adjust(wspace=0.9, hspace=0.8)\n",
    "plt.show()"
   ]
  },
  {
   "cell_type": "code",
   "execution_count": 5,
   "id": "8bedcede",
   "metadata": {},
   "outputs": [],
   "source": [
    "import torch\n",
    "from torch import nn\n",
    "from torch.nn import functional as F\n",
    "\n",
    "class FocalLoss(nn.Module):\n",
    "    def __init__(self, alpha=None, gamma=2, num_classes=3, size_average=True):\n",
    "        super(FocalLoss, self).__init__()\n",
    "        self.size_average = size_average\n",
    "        if alpha is None:\n",
    "            self.alpha = torch.ones(num_classes)\n",
    "        elif isinstance(alpha, list):\n",
    "            assert len(alpha) == num_classes\n",
    "            self.alpha = torch.Tensor(alpha)\n",
    "        else:\n",
    "            assert alpha < 1\n",
    "            self.alpha = torch.zeros(num_classes)\n",
    "            self.alpha[0] = alpha\n",
    "            self.alpha[1:] = 1 - alpha\n",
    "\n",
    "        self.gamma = gamma\n",
    "        print('Focal Loss:')\n",
    "        print('    Alpha = {}'.format(self.alpha))\n",
    "        print('    Gamma = {}'.format(self.gamma))\n",
    "\n",
    "    def forward(self, preds, labels):\n",
    "        if preds.device != self.alpha.device:\n",
    "            self.alpha = self.alpha.to(preds.device)\n",
    "\n",
    "        # 使用log_softmax避免数值溢出\n",
    "        log_probs = F.log_softmax(preds, dim=-1)\n",
    "        probs = torch.exp(log_probs)\n",
    "        \n",
    "        # 选择标签对应的预测概率\n",
    "        labels = labels.view(-1)\n",
    "        probs = probs.gather(dim=1, index=labels.unsqueeze(1)).squeeze(1)\n",
    "        log_probs = log_probs.gather(dim=1, index=labels.unsqueeze(1)).squeeze(1)\n",
    "        alpha = self.alpha[labels]\n",
    "\n",
    "        # 计算Focal Loss\n",
    "        focal_weight = torch.pow(1 - probs, self.gamma)\n",
    "        loss = -alpha * focal_weight * log_probs\n",
    "\n",
    "        if self.size_average:\n",
    "            return loss.mean()\n",
    "        else:\n",
    "            return loss.sum()"
   ]
  },
  {
   "cell_type": "code",
   "execution_count": 6,
   "id": "b58f78be",
   "metadata": {},
   "outputs": [],
   "source": [
    "def adjust_learning_rate(optimizer, new_lr):\n",
    "    for param_group in optimizer.param_groups:\n",
    "        param_group['lr'] = new_lr\n",
    "# 获取当前的学习率\n",
    "def get_current_learning_rate(optimizer):\n",
    "    for param_group in optimizer.param_groups:\n",
    "        return param_group['lr']"
   ]
  },
  {
   "cell_type": "code",
   "execution_count": 7,
   "id": "f9355dc9",
   "metadata": {},
   "outputs": [],
   "source": [
    "from tqdm import *\n",
    "from torch.optim.lr_scheduler import StepLR\n",
    "from torch import optim\n",
    "\n",
    "def train_net(model, train_data, val_data, model_dir, batch=32, epochs=50, lr=1e-3):\n",
    "    print(\"training the network...\")\n",
    "    #2、定义trainLoader 和 ValLoader\n",
    "    train_loader  = DataLoader(train_data,batch_size=batch,shuffle=True)\n",
    "    # 损失函数和优化器\n",
    "    loss_func = nn.CrossEntropyLoss()\n",
    "    opt = optim.Adam(model.parameters(), lr=lr, weight_decay=1e-5)\n",
    "#     opt = optim.SGD(model.parameters(),lr=lr, momentum=0.9)\n",
    "    train_size = len(train_loader)\n",
    "    best_acc = 0\n",
    "    model.train()\n",
    "    # 开始训练\n",
    "    for t in tqdm(range(epochs)):\n",
    "        train_correct,train_loss = 0,0\n",
    "        for inputs,outputs in train_loader:\n",
    "            input_size = len(train_loader)\n",
    "            inputs,outputs = inputs.to(device).float(),outputs.to(device).long()\n",
    "            opt.zero_grad()\n",
    "            pred = model(inputs)\n",
    "            pred_classes = pred.argmax(dim=1)\n",
    "            loss = loss_func(pred,outputs)\n",
    "            # 反向传播\n",
    "            loss.backward()\n",
    "            opt.step()\n",
    "#             # softmax激活为概率分布\n",
    "#             pred = nn.functional.softmax(pred, dim=1)\n",
    "            # 记录训练过程\n",
    "            train_acc = ((pred_classes == outputs).type(torch.float).sum().item())/len(inputs)\n",
    "            train_correct += train_acc\n",
    "            train_loss += loss.cpu().float()\n",
    "        # 获取当前学习率\n",
    "        current_lr = get_current_learning_rate(opt)\n",
    "        current_acc = train_correct / len(train_loader)\n",
    "        current_loss = train_loss.item() / len(train_loader)\n",
    "        print(\"epoch: {}/{}==== train_acc: {:<10.6f} train_loss: {:<10.6f} Current_lr: {:<10.6f}\".format(\n",
    "                    t, epochs, current_acc, current_loss, current_lr))\n",
    "        # 更新学习率\n",
    "        if ((t+1)%20==0) and (current_lr>0.00001):\n",
    "            new_lr = current_lr*0.1  # 新的学习率\n",
    "            adjust_learning_rate(opt, new_lr)\n",
    "            print('Epoch:', t, 'NEW_LR:', new_lr)\n",
    "        test_process(model,64,val_data, loss_func)\n",
    "         \n",
    "        # 保存权重\n",
    "        save_path = os.path.join('./',model_dir)\n",
    "        if not os.path.exists(save_path):\n",
    "            os.makedirs(save_path)\n",
    "        if current_acc > best_acc:\n",
    "            MODEL_PATH = os.path.join(model_dir, 'Model_epoch%{}.pth'.format(t+1))\n",
    "            torch.save(model, MODEL_PATH)\n",
    "            best_acc = current_acc\n",
    "\n",
    "def test_process(model,batchsize,test_data, loss_Function):\n",
    "    # 1、初始化损失函数、优化器、学习率策略等\n",
    "    model.eval()\n",
    "    test_loader = DataLoader(test_data,batch_size=batchsize)\n",
    "    TestAcc = []\n",
    "    TestLoss = []\n",
    "    with torch.no_grad():\n",
    "        for inputs, outputs in test_loader:\n",
    "            inputs, outputs = inputs.to(device).float(), outputs.to(device).long()\n",
    "            # 计算损失\n",
    "            pred = model(inputs)\n",
    "            loss = loss_Function(pred,outputs)\n",
    "            # softmax激活为概率分布\n",
    "            pred = nn.functional.softmax(pred, dim=1)\n",
    "            pred_classes = pred.argmax(dim=1)\n",
    "            # 计算ACC\n",
    "            train_acc = ((pred_classes == outputs).type(torch.float).sum().item())/ len(inputs)\n",
    "            TestAcc.append(train_acc)\n",
    "            TestLoss.append(loss)\n",
    "    avgTestLoss = torch.mean(torch.stack(TestLoss))\n",
    "    avgTestAcc = sum(TestAcc) / len(TestAcc)\n",
    "    print(\"testing loss is {:.5f},testing Acc is {:.5f}\".format(avgTestLoss,avgTestAcc))"
   ]
  },
  {
   "cell_type": "code",
   "execution_count": 8,
   "id": "951f966d",
   "metadata": {
    "scrolled": true
   },
   "outputs": [
    {
     "data": {
      "text/plain": [
       "VGG(\n",
       "  (features): Sequential(\n",
       "    (0): Conv2d(3, 64, kernel_size=(3, 3), stride=(1, 1), padding=(1, 1))\n",
       "    (1): ReLU(inplace=True)\n",
       "    (2): Conv2d(64, 64, kernel_size=(3, 3), stride=(1, 1), padding=(1, 1))\n",
       "    (3): ReLU(inplace=True)\n",
       "    (4): MaxPool2d(kernel_size=2, stride=2, padding=0, dilation=1, ceil_mode=False)\n",
       "    (5): Conv2d(64, 128, kernel_size=(3, 3), stride=(1, 1), padding=(1, 1))\n",
       "    (6): ReLU(inplace=True)\n",
       "    (7): Conv2d(128, 128, kernel_size=(3, 3), stride=(1, 1), padding=(1, 1))\n",
       "    (8): ReLU(inplace=True)\n",
       "    (9): MaxPool2d(kernel_size=2, stride=2, padding=0, dilation=1, ceil_mode=False)\n",
       "    (10): Conv2d(128, 256, kernel_size=(3, 3), stride=(1, 1), padding=(1, 1))\n",
       "    (11): ReLU(inplace=True)\n",
       "    (12): Conv2d(256, 256, kernel_size=(3, 3), stride=(1, 1), padding=(1, 1))\n",
       "    (13): ReLU(inplace=True)\n",
       "    (14): Conv2d(256, 256, kernel_size=(3, 3), stride=(1, 1), padding=(1, 1))\n",
       "    (15): ReLU(inplace=True)\n",
       "    (16): MaxPool2d(kernel_size=2, stride=2, padding=0, dilation=1, ceil_mode=False)\n",
       "    (17): Conv2d(256, 512, kernel_size=(3, 3), stride=(1, 1), padding=(1, 1))\n",
       "    (18): ReLU(inplace=True)\n",
       "    (19): Conv2d(512, 512, kernel_size=(3, 3), stride=(1, 1), padding=(1, 1))\n",
       "    (20): ReLU(inplace=True)\n",
       "    (21): Conv2d(512, 512, kernel_size=(3, 3), stride=(1, 1), padding=(1, 1))\n",
       "    (22): ReLU(inplace=True)\n",
       "    (23): MaxPool2d(kernel_size=2, stride=2, padding=0, dilation=1, ceil_mode=False)\n",
       "    (24): Conv2d(512, 512, kernel_size=(3, 3), stride=(1, 1), padding=(1, 1))\n",
       "    (25): ReLU(inplace=True)\n",
       "    (26): Conv2d(512, 512, kernel_size=(3, 3), stride=(1, 1), padding=(1, 1))\n",
       "    (27): ReLU(inplace=True)\n",
       "    (28): Conv2d(512, 512, kernel_size=(3, 3), stride=(1, 1), padding=(1, 1))\n",
       "    (29): ReLU(inplace=True)\n",
       "    (30): MaxPool2d(kernel_size=2, stride=2, padding=0, dilation=1, ceil_mode=False)\n",
       "  )\n",
       "  (avgpool): AdaptiveAvgPool2d(output_size=(7, 7))\n",
       "  (classifier): Sequential(\n",
       "    (0): Linear(in_features=25088, out_features=2048, bias=True)\n",
       "    (1): ReLU(inplace=True)\n",
       "    (2): Dropout(p=0.1, inplace=False)\n",
       "    (3): Linear(in_features=2048, out_features=1024, bias=True)\n",
       "    (4): ReLU(inplace=True)\n",
       "    (5): Dropout(p=0.1, inplace=False)\n",
       "    (6): Linear(in_features=1024, out_features=3, bias=True)\n",
       "  )\n",
       ")"
      ]
     },
     "execution_count": 8,
     "metadata": {},
     "output_type": "execute_result"
    }
   ],
   "source": [
    "import torch\n",
    "import torch.nn as nn\n",
    "import torchvision.models as models\n",
    "\n",
    "# 加载预训练的 VGG16 模型\n",
    "vgg16 = models.vgg16()\n",
    "\n",
    "state_dict = torch.load('./vgg16.pth')\n",
    "# Remove keys from state_dict that belong to the fully connected layers\n",
    "for key in list(state_dict.keys()):\n",
    "    if key.startswith('classifier'):\n",
    "        del state_dict[key]\n",
    "vgg16.load_state_dict(state_dict, strict=False)\n",
    "\n",
    "# 1. 清空分类层\n",
    "vgg16.classifier = nn.Sequential()\n",
    "\n",
    "# num_classes 为你的分类数\n",
    "vgg16.classifier = nn.Sequential(\n",
    "    nn.Linear(25088, 2048),\n",
    "    nn.ReLU(True),\n",
    "    nn.Dropout(p=0.1),\n",
    "    nn.Linear(2048, 1024),\n",
    "    nn.ReLU(True),\n",
    "    nn.Dropout(p=0.1),\n",
    "    nn.Linear(1024, 3)\n",
    ")\n",
    "\n",
    "# # 3. 冻结预训练模型的参数，只训练新添加的分类层\n",
    "# for param in vgg16.parameters():\n",
    "#     param.requires_grad = False\n",
    "\n",
    "# # 可选：解冻最后几层以进行微调\n",
    "# for param in vgg16.features[-6:].parameters():\n",
    "#     param.requires_grad = True\n",
    "\n",
    "# 将模型移动到设备（GPU 或 CPU）\n",
    "device = torch.device('cuda' if torch.cuda.is_available() else 'cpu')\n",
    "vgg16.to(device)"
   ]
  },
  {
   "cell_type": "code",
   "execution_count": 9,
   "id": "40caf001",
   "metadata": {
    "scrolled": true
   },
   "outputs": [
    {
     "name": "stdout",
     "output_type": "stream",
     "text": [
      "training the network...\n"
     ]
    },
    {
     "name": "stderr",
     "output_type": "stream",
     "text": [
      "\r",
      "  0%|                                                                                          | 0/100 [00:00<?, ?it/s]"
     ]
    },
    {
     "name": "stdout",
     "output_type": "stream",
     "text": [
      "epoch: 0/100==== train_acc: 0.652330   train_loss: 0.880657   Current_lr: 0.000100  \n",
      "testing loss is 0.77177,testing Acc is 0.68107\n"
     ]
    },
    {
     "name": "stderr",
     "output_type": "stream",
     "text": [
      "\r",
      "  1%|▊                                                                                 | 1/100 [00:26<43:57, 26.64s/it]"
     ]
    },
    {
     "name": "stdout",
     "output_type": "stream",
     "text": [
      "epoch: 1/100==== train_acc: 0.787911   train_loss: 0.519963   Current_lr: 0.000100  \n",
      "testing loss is 0.59916,testing Acc is 0.74724\n"
     ]
    },
    {
     "name": "stderr",
     "output_type": "stream",
     "text": [
      "\r",
      "  2%|█▋                                                                                | 2/100 [00:52<42:38, 26.11s/it]"
     ]
    },
    {
     "name": "stdout",
     "output_type": "stream",
     "text": [
      "epoch: 2/100==== train_acc: 0.837537   train_loss: 0.400114   Current_lr: 0.000100  \n",
      "testing loss is 0.53503,testing Acc is 0.79871\n"
     ]
    },
    {
     "name": "stderr",
     "output_type": "stream",
     "text": [
      "\r",
      "  3%|██▍                                                                               | 3/100 [01:18<41:51, 25.89s/it]"
     ]
    },
    {
     "name": "stdout",
     "output_type": "stream",
     "text": [
      "epoch: 3/100==== train_acc: 0.871080   train_loss: 0.333954   Current_lr: 0.000100  \n",
      "testing loss is 0.48167,testing Acc is 0.83456\n"
     ]
    },
    {
     "name": "stderr",
     "output_type": "stream",
     "text": [
      "\r",
      "  4%|███▎                                                                              | 4/100 [01:43<41:15, 25.79s/it]"
     ]
    },
    {
     "name": "stdout",
     "output_type": "stream",
     "text": [
      "epoch: 4/100==== train_acc: 0.878481   train_loss: 0.302707   Current_lr: 0.000100  \n",
      "testing loss is 0.43313,testing Acc is 0.84007\n"
     ]
    },
    {
     "name": "stderr",
     "output_type": "stream",
     "text": [
      "\r",
      "  5%|████                                                                              | 5/100 [02:09<40:37, 25.65s/it]"
     ]
    },
    {
     "name": "stdout",
     "output_type": "stream",
     "text": [
      "epoch: 5/100==== train_acc: 0.895450   train_loss: 0.246206   Current_lr: 0.000100  \n",
      "testing loss is 0.54881,testing Acc is 0.81801\n"
     ]
    },
    {
     "name": "stderr",
     "output_type": "stream",
     "text": [
      "\r",
      "  6%|████▉                                                                             | 6/100 [02:34<40:09, 25.63s/it]"
     ]
    },
    {
     "name": "stdout",
     "output_type": "stream",
     "text": [
      "epoch: 6/100==== train_acc: 0.901398   train_loss: 0.242180   Current_lr: 0.000100  \n",
      "testing loss is 0.42538,testing Acc is 0.82721\n"
     ]
    },
    {
     "name": "stderr",
     "output_type": "stream",
     "text": [
      "\r",
      "  7%|█████▋                                                                            | 7/100 [03:00<39:48, 25.68s/it]"
     ]
    },
    {
     "name": "stdout",
     "output_type": "stream",
     "text": [
      "epoch: 7/100==== train_acc: 0.914949   train_loss: 0.205544   Current_lr: 0.000100  \n",
      "testing loss is 0.45512,testing Acc is 0.82445\n"
     ]
    },
    {
     "name": "stderr",
     "output_type": "stream",
     "text": [
      "\r",
      "  8%|██████▌                                                                           | 8/100 [03:27<40:09, 26.19s/it]"
     ]
    },
    {
     "name": "stdout",
     "output_type": "stream",
     "text": [
      "epoch: 8/100==== train_acc: 0.915186   train_loss: 0.203715   Current_lr: 0.000100  \n",
      "testing loss is 0.62394,testing Acc is 0.83180\n"
     ]
    },
    {
     "name": "stderr",
     "output_type": "stream",
     "text": [
      "\r",
      "  9%|███████▍                                                                          | 9/100 [03:53<39:39, 26.15s/it]"
     ]
    },
    {
     "name": "stdout",
     "output_type": "stream",
     "text": [
      "epoch: 9/100==== train_acc: 0.932456   train_loss: 0.172444   Current_lr: 0.000100  \n",
      "testing loss is 0.53823,testing Acc is 0.85110\n"
     ]
    },
    {
     "name": "stderr",
     "output_type": "stream",
     "text": [
      "\r",
      " 10%|████████                                                                         | 10/100 [04:19<39:02, 26.02s/it]"
     ]
    },
    {
     "name": "stdout",
     "output_type": "stream",
     "text": [
      "epoch: 10/100==== train_acc: 0.937692   train_loss: 0.165130   Current_lr: 0.000100  \n",
      "testing loss is 0.59484,testing Acc is 0.84007\n"
     ]
    },
    {
     "name": "stderr",
     "output_type": "stream",
     "text": [
      "\r",
      " 11%|████████▉                                                                        | 11/100 [04:45<38:31, 25.98s/it]"
     ]
    },
    {
     "name": "stdout",
     "output_type": "stream",
     "text": [
      "epoch: 11/100==== train_acc: 0.938039   train_loss: 0.164611   Current_lr: 0.000100  \n",
      "testing loss is 0.55435,testing Acc is 0.85662\n"
     ]
    },
    {
     "name": "stderr",
     "output_type": "stream",
     "text": [
      "\r",
      " 12%|█████████▋                                                                       | 12/100 [05:11<38:12, 26.05s/it]"
     ]
    },
    {
     "name": "stdout",
     "output_type": "stream",
     "text": [
      "epoch: 12/100==== train_acc: 0.948666   train_loss: 0.128943   Current_lr: 0.000100  \n",
      "testing loss is 0.39942,testing Acc is 0.85570\n"
     ]
    },
    {
     "name": "stderr",
     "output_type": "stream",
     "text": [
      "\r",
      " 13%|██████████▌                                                                      | 13/100 [05:37<37:39, 25.97s/it]"
     ]
    },
    {
     "name": "stdout",
     "output_type": "stream",
     "text": [
      "epoch: 13/100==== train_acc: 0.937975   train_loss: 0.146323   Current_lr: 0.000100  \n"
     ]
    },
    {
     "name": "stderr",
     "output_type": "stream",
     "text": [
      "\r",
      " 14%|███████████▎                                                                     | 14/100 [06:01<36:35, 25.52s/it]"
     ]
    },
    {
     "name": "stdout",
     "output_type": "stream",
     "text": [
      "testing loss is 0.53800,testing Acc is 0.83088\n",
      "epoch: 14/100==== train_acc: 0.951133   train_loss: 0.126509   Current_lr: 0.000100  \n",
      "testing loss is 0.60785,testing Acc is 0.79320\n"
     ]
    },
    {
     "name": "stderr",
     "output_type": "stream",
     "text": [
      "\r",
      " 15%|████████████▏                                                                    | 15/100 [06:27<36:07, 25.50s/it]"
     ]
    },
    {
     "name": "stdout",
     "output_type": "stream",
     "text": [
      "epoch: 15/100==== train_acc: 0.956716   train_loss: 0.106646   Current_lr: 0.000100  \n",
      "testing loss is 0.64259,testing Acc is 0.83272\n"
     ]
    },
    {
     "name": "stderr",
     "output_type": "stream",
     "text": [
      "\r",
      " 16%|████████████▉                                                                    | 16/100 [06:52<35:43, 25.51s/it]"
     ]
    },
    {
     "name": "stdout",
     "output_type": "stream",
     "text": [
      "epoch: 16/100==== train_acc: 0.974159   train_loss: 0.084142   Current_lr: 0.000100  \n",
      "testing loss is 0.59754,testing Acc is 0.84835\n"
     ]
    },
    {
     "name": "stderr",
     "output_type": "stream",
     "text": [
      "\r",
      " 17%|█████████████▊                                                                   | 17/100 [07:18<35:17, 25.52s/it]"
     ]
    },
    {
     "name": "stdout",
     "output_type": "stream",
     "text": [
      "epoch: 17/100==== train_acc: 0.961760   train_loss: 0.105391   Current_lr: 0.000100  \n"
     ]
    },
    {
     "name": "stderr",
     "output_type": "stream",
     "text": [
      "\r",
      " 18%|██████████████▌                                                                  | 18/100 [07:42<34:21, 25.14s/it]"
     ]
    },
    {
     "name": "stdout",
     "output_type": "stream",
     "text": [
      "testing loss is 0.53026,testing Acc is 0.85018\n",
      "epoch: 18/100==== train_acc: 0.973575   train_loss: 0.083072   Current_lr: 0.000100  \n"
     ]
    },
    {
     "name": "stderr",
     "output_type": "stream",
     "text": [
      "\r",
      " 19%|███████████████▍                                                                 | 19/100 [08:06<33:36, 24.89s/it]"
     ]
    },
    {
     "name": "stdout",
     "output_type": "stream",
     "text": [
      "testing loss is 0.47072,testing Acc is 0.87592\n",
      "epoch: 19/100==== train_acc: 0.965762   train_loss: 0.095394   Current_lr: 0.000100  \n",
      "Epoch: 19 NEW_LR: 1e-05\n"
     ]
    },
    {
     "name": "stderr",
     "output_type": "stream",
     "text": [
      "\r",
      " 20%|████████████████▏                                                                | 20/100 [08:31<32:55, 24.70s/it]"
     ]
    },
    {
     "name": "stdout",
     "output_type": "stream",
     "text": [
      "testing loss is 0.50034,testing Acc is 0.85570\n",
      "epoch: 20/100==== train_acc: 0.983790   train_loss: 0.044999   Current_lr: 0.000010  \n",
      "testing loss is 0.60110,testing Acc is 0.85202\n"
     ]
    },
    {
     "name": "stderr",
     "output_type": "stream",
     "text": [
      "\r",
      " 21%|█████████████████                                                                | 21/100 [08:56<32:55, 25.01s/it]"
     ]
    },
    {
     "name": "stdout",
     "output_type": "stream",
     "text": [
      "epoch: 21/100==== train_acc: 0.986431   train_loss: 0.036508   Current_lr: 0.000010  \n",
      "testing loss is 0.56279,testing Acc is 0.86489\n"
     ]
    },
    {
     "name": "stderr",
     "output_type": "stream",
     "text": [
      "\r",
      " 22%|█████████████████▊                                                               | 22/100 [09:22<32:40, 25.13s/it]"
     ]
    },
    {
     "name": "stdout",
     "output_type": "stream",
     "text": [
      "epoch: 22/100==== train_acc: 0.988724   train_loss: 0.034683   Current_lr: 0.000010  \n",
      "testing loss is 0.67683,testing Acc is 0.87040\n"
     ]
    },
    {
     "name": "stderr",
     "output_type": "stream",
     "text": [
      "\r",
      " 23%|██████████████████▋                                                              | 23/100 [09:47<32:23, 25.25s/it]"
     ]
    },
    {
     "name": "stdout",
     "output_type": "stream",
     "text": [
      "epoch: 23/100==== train_acc: 0.989958   train_loss: 0.028303   Current_lr: 0.000010  \n",
      "testing loss is 0.69522,testing Acc is 0.84835\n"
     ]
    },
    {
     "name": "stderr",
     "output_type": "stream",
     "text": [
      "\r",
      " 24%|███████████████████▍                                                             | 24/100 [10:13<32:05, 25.34s/it]"
     ]
    },
    {
     "name": "stdout",
     "output_type": "stream",
     "text": [
      "epoch: 24/100==== train_acc: 0.991776   train_loss: 0.023068   Current_lr: 0.000010  \n",
      "testing loss is 0.67475,testing Acc is 0.85294\n"
     ]
    },
    {
     "name": "stderr",
     "output_type": "stream",
     "text": [
      "\r",
      " 25%|████████████████████▎                                                            | 25/100 [10:38<31:40, 25.35s/it]"
     ]
    },
    {
     "name": "stdout",
     "output_type": "stream",
     "text": [
      "epoch: 25/100==== train_acc: 0.990954   train_loss: 0.022118   Current_lr: 0.000010  \n"
     ]
    },
    {
     "name": "stderr",
     "output_type": "stream",
     "text": [
      "\r",
      " 26%|█████████████████████                                                            | 26/100 [11:02<30:49, 25.00s/it]"
     ]
    },
    {
     "name": "stdout",
     "output_type": "stream",
     "text": [
      "testing loss is 0.72480,testing Acc is 0.86213\n",
      "epoch: 26/100==== train_acc: 0.993421   train_loss: 0.021213   Current_lr: 0.000010  \n",
      "testing loss is 0.73674,testing Acc is 0.85754\n"
     ]
    },
    {
     "name": "stderr",
     "output_type": "stream",
     "text": [
      "\r",
      " 27%|█████████████████████▊                                                           | 27/100 [11:28<30:39, 25.19s/it]"
     ]
    },
    {
     "name": "stdout",
     "output_type": "stream",
     "text": [
      "epoch: 27/100==== train_acc: 0.990132   train_loss: 0.025414   Current_lr: 0.000010  \n"
     ]
    },
    {
     "name": "stderr",
     "output_type": "stream",
     "text": [
      "\r",
      " 28%|██████████████████████▋                                                          | 28/100 [11:53<29:56, 24.96s/it]"
     ]
    },
    {
     "name": "stdout",
     "output_type": "stream",
     "text": [
      "testing loss is 0.76822,testing Acc is 0.86489\n",
      "epoch: 28/100==== train_acc: 0.993896   train_loss: 0.018301   Current_lr: 0.000010  \n",
      "testing loss is 0.82808,testing Acc is 0.86029\n"
     ]
    },
    {
     "name": "stderr",
     "output_type": "stream",
     "text": [
      "\r",
      " 29%|███████████████████████▍                                                         | 29/100 [12:19<30:01, 25.37s/it]"
     ]
    },
    {
     "name": "stdout",
     "output_type": "stream",
     "text": [
      "epoch: 29/100==== train_acc: 0.993010   train_loss: 0.016260   Current_lr: 0.000010  \n"
     ]
    },
    {
     "name": "stderr",
     "output_type": "stream",
     "text": [
      "\r",
      " 30%|████████████████████████▎                                                        | 30/100 [12:43<29:17, 25.11s/it]"
     ]
    },
    {
     "name": "stdout",
     "output_type": "stream",
     "text": [
      "testing loss is 0.83159,testing Acc is 0.85202\n",
      "epoch: 30/100==== train_acc: 0.994243   train_loss: 0.016192   Current_lr: 0.000010  \n",
      "testing loss is 0.95159,testing Acc is 0.85662\n"
     ]
    },
    {
     "name": "stderr",
     "output_type": "stream",
     "text": [
      "\r",
      " 31%|█████████████████████████                                                        | 31/100 [13:09<29:13, 25.41s/it]"
     ]
    },
    {
     "name": "stdout",
     "output_type": "stream",
     "text": [
      "epoch: 31/100==== train_acc: 0.993832   train_loss: 0.021029   Current_lr: 0.000010  \n"
     ]
    },
    {
     "name": "stderr",
     "output_type": "stream",
     "text": [
      "\r",
      " 32%|█████████████████████████▉                                                       | 32/100 [13:34<28:29, 25.13s/it]"
     ]
    },
    {
     "name": "stdout",
     "output_type": "stream",
     "text": [
      "testing loss is 0.84686,testing Acc is 0.85018\n",
      "epoch: 32/100==== train_acc: 0.990954   train_loss: 0.019794   Current_lr: 0.000010  \n"
     ]
    },
    {
     "name": "stderr",
     "output_type": "stream",
     "text": [
      "\r",
      " 33%|██████████████████████████▋                                                      | 33/100 [13:58<27:47, 24.89s/it]"
     ]
    },
    {
     "name": "stdout",
     "output_type": "stream",
     "text": [
      "testing loss is 0.79320,testing Acc is 0.85386\n",
      "epoch: 33/100==== train_acc: 0.990132   train_loss: 0.023996   Current_lr: 0.000010  \n"
     ]
    },
    {
     "name": "stderr",
     "output_type": "stream",
     "text": [
      "\r",
      " 34%|███████████████████████████▌                                                     | 34/100 [14:23<27:13, 24.74s/it]"
     ]
    },
    {
     "name": "stdout",
     "output_type": "stream",
     "text": [
      "testing loss is 0.77802,testing Acc is 0.85110\n",
      "epoch: 34/100==== train_acc: 0.995066   train_loss: 0.017001   Current_lr: 0.000010  \n",
      "testing loss is 0.79427,testing Acc is 0.86489\n"
     ]
    },
    {
     "name": "stderr",
     "output_type": "stream",
     "text": [
      "\r",
      " 35%|████████████████████████████▎                                                    | 35/100 [14:48<27:06, 25.03s/it]"
     ]
    },
    {
     "name": "stdout",
     "output_type": "stream",
     "text": [
      "epoch: 35/100==== train_acc: 0.995066   train_loss: 0.015948   Current_lr: 0.000010  \n"
     ]
    },
    {
     "name": "stderr",
     "output_type": "stream",
     "text": [
      "\r",
      " 36%|█████████████████████████████▏                                                   | 36/100 [15:13<26:29, 24.83s/it]"
     ]
    },
    {
     "name": "stdout",
     "output_type": "stream",
     "text": [
      "testing loss is 0.75203,testing Acc is 0.86765\n",
      "epoch: 36/100==== train_acc: 0.997122   train_loss: 0.013056   Current_lr: 0.000010  \n",
      "testing loss is 0.78776,testing Acc is 0.86489\n"
     ]
    },
    {
     "name": "stderr",
     "output_type": "stream",
     "text": [
      "\r",
      " 37%|█████████████████████████████▉                                                   | 37/100 [15:39<26:21, 25.11s/it]"
     ]
    },
    {
     "name": "stdout",
     "output_type": "stream",
     "text": [
      "epoch: 37/100==== train_acc: 0.996711   train_loss: 0.010863   Current_lr: 0.000010  \n"
     ]
    },
    {
     "name": "stderr",
     "output_type": "stream",
     "text": [
      "\r",
      " 38%|██████████████████████████████▊                                                  | 38/100 [16:03<25:42, 24.88s/it]"
     ]
    },
    {
     "name": "stdout",
     "output_type": "stream",
     "text": [
      "testing loss is 0.80408,testing Acc is 0.86029\n",
      "epoch: 38/100==== train_acc: 0.996126   train_loss: 0.011771   Current_lr: 0.000010  \n"
     ]
    },
    {
     "name": "stderr",
     "output_type": "stream",
     "text": [
      "\r",
      " 39%|███████████████████████████████▌                                                 | 39/100 [16:27<25:05, 24.68s/it]"
     ]
    },
    {
     "name": "stdout",
     "output_type": "stream",
     "text": [
      "testing loss is 0.81797,testing Acc is 0.86949\n",
      "epoch: 39/100==== train_acc: 0.993659   train_loss: 0.014309   Current_lr: 0.000010  \n"
     ]
    },
    {
     "name": "stderr",
     "output_type": "stream",
     "text": [
      "\r",
      " 40%|████████████████████████████████▍                                                | 40/100 [16:51<24:33, 24.56s/it]"
     ]
    },
    {
     "name": "stdout",
     "output_type": "stream",
     "text": [
      "testing loss is 0.90056,testing Acc is 0.86305\n",
      "epoch: 40/100==== train_acc: 0.993421   train_loss: 0.016226   Current_lr: 0.000010  \n"
     ]
    },
    {
     "name": "stderr",
     "output_type": "stream",
     "text": [
      "\r",
      " 41%|█████████████████████████████████▏                                               | 41/100 [17:16<24:02, 24.46s/it]"
     ]
    },
    {
     "name": "stdout",
     "output_type": "stream",
     "text": [
      "testing loss is 0.84776,testing Acc is 0.85938\n",
      "epoch: 41/100==== train_acc: 0.996711   train_loss: 0.009185   Current_lr: 0.000010  \n"
     ]
    },
    {
     "name": "stderr",
     "output_type": "stream",
     "text": [
      "\r",
      " 42%|██████████████████████████████████                                               | 42/100 [17:40<23:36, 24.43s/it]"
     ]
    },
    {
     "name": "stdout",
     "output_type": "stream",
     "text": [
      "testing loss is 0.91642,testing Acc is 0.86397\n",
      "epoch: 42/100==== train_acc: 0.996948   train_loss: 0.010734   Current_lr: 0.000010  \n"
     ]
    },
    {
     "name": "stderr",
     "output_type": "stream",
     "text": [
      "\r",
      " 43%|██████████████████████████████████▊                                              | 43/100 [18:04<23:09, 24.38s/it]"
     ]
    },
    {
     "name": "stdout",
     "output_type": "stream",
     "text": [
      "testing loss is 0.92777,testing Acc is 0.85754\n",
      "epoch: 43/100==== train_acc: 0.995130   train_loss: 0.014389   Current_lr: 0.000010  \n"
     ]
    },
    {
     "name": "stderr",
     "output_type": "stream",
     "text": [
      "\r",
      " 44%|███████████████████████████████████▋                                             | 44/100 [18:28<22:43, 24.34s/it]"
     ]
    },
    {
     "name": "stdout",
     "output_type": "stream",
     "text": [
      "testing loss is 0.84310,testing Acc is 0.86857\n",
      "epoch: 44/100==== train_acc: 0.994655   train_loss: 0.011200   Current_lr: 0.000010  \n"
     ]
    },
    {
     "name": "stderr",
     "output_type": "stream",
     "text": [
      "\r",
      " 45%|████████████████████████████████████▍                                            | 45/100 [18:53<22:18, 24.34s/it]"
     ]
    },
    {
     "name": "stdout",
     "output_type": "stream",
     "text": [
      "testing loss is 0.88906,testing Acc is 0.85294\n",
      "epoch: 45/100==== train_acc: 0.995477   train_loss: 0.010409   Current_lr: 0.000010  \n"
     ]
    },
    {
     "name": "stderr",
     "output_type": "stream",
     "text": [
      "\r",
      " 46%|█████████████████████████████████████▎                                           | 46/100 [19:17<21:52, 24.31s/it]"
     ]
    },
    {
     "name": "stdout",
     "output_type": "stream",
     "text": [
      "testing loss is 1.08047,testing Acc is 0.85846\n",
      "epoch: 46/100==== train_acc: 0.994655   train_loss: 0.014494   Current_lr: 0.000010  \n"
     ]
    },
    {
     "name": "stderr",
     "output_type": "stream",
     "text": [
      "\r",
      " 47%|██████████████████████████████████████                                           | 47/100 [19:42<21:31, 24.36s/it]"
     ]
    },
    {
     "name": "stdout",
     "output_type": "stream",
     "text": [
      "testing loss is 0.87995,testing Acc is 0.86305\n",
      "epoch: 47/100==== train_acc: 0.996299   train_loss: 0.008269   Current_lr: 0.000010  \n"
     ]
    },
    {
     "name": "stderr",
     "output_type": "stream",
     "text": [
      "\r",
      " 48%|██████████████████████████████████████▉                                          | 48/100 [20:06<21:05, 24.34s/it]"
     ]
    },
    {
     "name": "stdout",
     "output_type": "stream",
     "text": [
      "testing loss is 0.97077,testing Acc is 0.85478\n",
      "epoch: 48/100==== train_acc: 0.995477   train_loss: 0.012459   Current_lr: 0.000010  \n"
     ]
    },
    {
     "name": "stderr",
     "output_type": "stream",
     "text": [
      "\r",
      " 49%|███████████████████████████████████████▋                                         | 49/100 [20:30<20:44, 24.40s/it]"
     ]
    },
    {
     "name": "stdout",
     "output_type": "stream",
     "text": [
      "testing loss is 0.93214,testing Acc is 0.84926\n",
      "epoch: 49/100==== train_acc: 0.997122   train_loss: 0.013226   Current_lr: 0.000010  \n"
     ]
    },
    {
     "name": "stderr",
     "output_type": "stream",
     "text": [
      "\r",
      " 50%|████████████████████████████████████████▌                                        | 50/100 [20:55<20:22, 24.44s/it]"
     ]
    },
    {
     "name": "stdout",
     "output_type": "stream",
     "text": [
      "testing loss is 0.85479,testing Acc is 0.85846\n",
      "epoch: 50/100==== train_acc: 0.998355   train_loss: 0.005521   Current_lr: 0.000010  \n",
      "testing loss is 0.89376,testing Acc is 0.86489\n"
     ]
    },
    {
     "name": "stderr",
     "output_type": "stream",
     "text": [
      "\r",
      " 51%|█████████████████████████████████████████▎                                       | 51/100 [21:20<20:12, 24.74s/it]"
     ]
    },
    {
     "name": "stdout",
     "output_type": "stream",
     "text": [
      "epoch: 51/100==== train_acc: 0.996299   train_loss: 0.007750   Current_lr: 0.000010  \n"
     ]
    },
    {
     "name": "stderr",
     "output_type": "stream",
     "text": [
      "\r",
      " 52%|██████████████████████████████████████████                                       | 52/100 [21:44<19:38, 24.56s/it]"
     ]
    },
    {
     "name": "stdout",
     "output_type": "stream",
     "text": [
      "testing loss is 1.09184,testing Acc is 0.85570\n",
      "epoch: 52/100==== train_acc: 0.993485   train_loss: 0.014797   Current_lr: 0.000010  \n"
     ]
    },
    {
     "name": "stderr",
     "output_type": "stream",
     "text": [
      "\r",
      " 53%|██████████████████████████████████████████▉                                      | 53/100 [22:09<19:07, 24.42s/it]"
     ]
    },
    {
     "name": "stdout",
     "output_type": "stream",
     "text": [
      "testing loss is 0.97953,testing Acc is 0.85754\n",
      "epoch: 53/100==== train_acc: 0.994655   train_loss: 0.011536   Current_lr: 0.000010  \n"
     ]
    },
    {
     "name": "stderr",
     "output_type": "stream",
     "text": [
      "\r",
      " 54%|███████████████████████████████████████████▋                                     | 54/100 [22:33<18:38, 24.31s/it]"
     ]
    },
    {
     "name": "stdout",
     "output_type": "stream",
     "text": [
      "testing loss is 0.96098,testing Acc is 0.85754\n",
      "epoch: 54/100==== train_acc: 0.996711   train_loss: 0.008597   Current_lr: 0.000010  \n"
     ]
    },
    {
     "name": "stderr",
     "output_type": "stream",
     "text": [
      "\r",
      " 55%|████████████████████████████████████████████▌                                    | 55/100 [22:57<18:10, 24.24s/it]"
     ]
    },
    {
     "name": "stdout",
     "output_type": "stream",
     "text": [
      "testing loss is 1.00168,testing Acc is 0.85570\n",
      "epoch: 55/100==== train_acc: 0.997944   train_loss: 0.006392   Current_lr: 0.000010  \n"
     ]
    },
    {
     "name": "stderr",
     "output_type": "stream",
     "text": [
      "\r",
      " 56%|█████████████████████████████████████████████▎                                   | 56/100 [23:21<17:44, 24.19s/it]"
     ]
    },
    {
     "name": "stdout",
     "output_type": "stream",
     "text": [
      "testing loss is 1.01872,testing Acc is 0.86305\n",
      "epoch: 56/100==== train_acc: 0.996299   train_loss: 0.013071   Current_lr: 0.000010  \n"
     ]
    },
    {
     "name": "stderr",
     "output_type": "stream",
     "text": [
      "\r",
      " 57%|██████████████████████████████████████████████▏                                  | 57/100 [23:45<17:19, 24.17s/it]"
     ]
    },
    {
     "name": "stdout",
     "output_type": "stream",
     "text": [
      "testing loss is 1.00008,testing Acc is 0.85570\n",
      "epoch: 57/100==== train_acc: 0.996537   train_loss: 0.008253   Current_lr: 0.000010  \n"
     ]
    },
    {
     "name": "stderr",
     "output_type": "stream",
     "text": [
      "\r",
      " 58%|██████████████████████████████████████████████▉                                  | 58/100 [24:09<16:54, 24.14s/it]"
     ]
    },
    {
     "name": "stdout",
     "output_type": "stream",
     "text": [
      "testing loss is 0.90305,testing Acc is 0.85478\n",
      "epoch: 58/100==== train_acc: 0.995888   train_loss: 0.011204   Current_lr: 0.000010  \n"
     ]
    },
    {
     "name": "stderr",
     "output_type": "stream",
     "text": [
      "\r",
      " 59%|███████████████████████████████████████████████▊                                 | 59/100 [24:33<16:28, 24.12s/it]"
     ]
    },
    {
     "name": "stdout",
     "output_type": "stream",
     "text": [
      "testing loss is 0.97679,testing Acc is 0.83548\n",
      "epoch: 59/100==== train_acc: 0.995715   train_loss: 0.011301   Current_lr: 0.000010  \n"
     ]
    },
    {
     "name": "stderr",
     "output_type": "stream",
     "text": [
      "\r",
      " 60%|████████████████████████████████████████████████▌                                | 60/100 [24:57<16:04, 24.11s/it]"
     ]
    },
    {
     "name": "stdout",
     "output_type": "stream",
     "text": [
      "testing loss is 0.95494,testing Acc is 0.85202\n",
      "epoch: 60/100==== train_acc: 0.995477   train_loss: 0.013193   Current_lr: 0.000010  \n"
     ]
    },
    {
     "name": "stderr",
     "output_type": "stream",
     "text": [
      "\r",
      " 61%|█████████████████████████████████████████████████▍                               | 61/100 [25:21<15:40, 24.12s/it]"
     ]
    },
    {
     "name": "stdout",
     "output_type": "stream",
     "text": [
      "testing loss is 1.15056,testing Acc is 0.84743\n",
      "epoch: 61/100==== train_acc: 0.996299   train_loss: 0.009524   Current_lr: 0.000010  \n"
     ]
    },
    {
     "name": "stderr",
     "output_type": "stream",
     "text": [
      "\r",
      " 62%|██████████████████████████████████████████████████▏                              | 62/100 [25:45<15:16, 24.11s/it]"
     ]
    },
    {
     "name": "stdout",
     "output_type": "stream",
     "text": [
      "testing loss is 1.14771,testing Acc is 0.85386\n",
      "epoch: 62/100==== train_acc: 0.996299   train_loss: 0.011010   Current_lr: 0.000010  \n"
     ]
    },
    {
     "name": "stderr",
     "output_type": "stream",
     "text": [
      "\r",
      " 63%|███████████████████████████████████████████████████                              | 63/100 [26:09<14:52, 24.12s/it]"
     ]
    },
    {
     "name": "stdout",
     "output_type": "stream",
     "text": [
      "testing loss is 1.01589,testing Acc is 0.85846\n",
      "epoch: 63/100==== train_acc: 0.996299   train_loss: 0.008678   Current_lr: 0.000010  \n"
     ]
    },
    {
     "name": "stderr",
     "output_type": "stream",
     "text": [
      "\r",
      " 64%|███████████████████████████████████████████████████▊                             | 64/100 [26:34<14:27, 24.10s/it]"
     ]
    },
    {
     "name": "stdout",
     "output_type": "stream",
     "text": [
      "testing loss is 0.87974,testing Acc is 0.86213\n",
      "epoch: 64/100==== train_acc: 0.998355   train_loss: 0.005369   Current_lr: 0.000010  \n"
     ]
    },
    {
     "name": "stderr",
     "output_type": "stream",
     "text": [
      "\r",
      " 65%|████████████████████████████████████████████████████▋                            | 65/100 [26:58<14:04, 24.14s/it]"
     ]
    },
    {
     "name": "stdout",
     "output_type": "stream",
     "text": [
      "testing loss is 0.94841,testing Acc is 0.85938\n",
      "epoch: 65/100==== train_acc: 0.996299   train_loss: 0.006987   Current_lr: 0.000010  \n"
     ]
    },
    {
     "name": "stderr",
     "output_type": "stream",
     "text": [
      "\r",
      " 66%|█████████████████████████████████████████████████████▍                           | 66/100 [27:22<13:40, 24.12s/it]"
     ]
    },
    {
     "name": "stdout",
     "output_type": "stream",
     "text": [
      "testing loss is 1.01495,testing Acc is 0.85570\n",
      "epoch: 66/100==== train_acc: 0.999178   train_loss: 0.005261   Current_lr: 0.000010  \n",
      "testing loss is 1.12152,testing Acc is 0.85110\n"
     ]
    },
    {
     "name": "stderr",
     "output_type": "stream",
     "text": [
      "\r",
      " 67%|██████████████████████████████████████████████████████▎                          | 67/100 [27:47<13:28, 24.50s/it]"
     ]
    },
    {
     "name": "stdout",
     "output_type": "stream",
     "text": [
      "epoch: 67/100==== train_acc: 0.997944   train_loss: 0.005614   Current_lr: 0.000010  \n"
     ]
    },
    {
     "name": "stderr",
     "output_type": "stream",
     "text": [
      "\r",
      " 68%|███████████████████████████████████████████████████████                          | 68/100 [28:11<13:00, 24.38s/it]"
     ]
    },
    {
     "name": "stdout",
     "output_type": "stream",
     "text": [
      "testing loss is 1.10663,testing Acc is 0.86397\n",
      "epoch: 68/100==== train_acc: 0.996126   train_loss: 0.007117   Current_lr: 0.000010  \n"
     ]
    },
    {
     "name": "stderr",
     "output_type": "stream",
     "text": [
      "\r",
      " 69%|███████████████████████████████████████████████████████▉                         | 69/100 [28:35<12:32, 24.28s/it]"
     ]
    },
    {
     "name": "stdout",
     "output_type": "stream",
     "text": [
      "testing loss is 1.06723,testing Acc is 0.84926\n",
      "epoch: 69/100==== train_acc: 0.996711   train_loss: 0.007831   Current_lr: 0.000010  \n"
     ]
    },
    {
     "name": "stderr",
     "output_type": "stream",
     "text": [
      "\r",
      " 70%|████████████████████████████████████████████████████████▋                        | 70/100 [29:00<12:07, 24.25s/it]"
     ]
    },
    {
     "name": "stdout",
     "output_type": "stream",
     "text": [
      "testing loss is 1.09986,testing Acc is 0.84283\n",
      "epoch: 70/100==== train_acc: 0.997533   train_loss: 0.006560   Current_lr: 0.000010  \n"
     ]
    },
    {
     "name": "stderr",
     "output_type": "stream",
     "text": [
      "\r",
      " 71%|█████████████████████████████████████████████████████████▌                       | 71/100 [29:24<11:42, 24.22s/it]"
     ]
    },
    {
     "name": "stdout",
     "output_type": "stream",
     "text": [
      "testing loss is 1.27714,testing Acc is 0.84007\n",
      "epoch: 71/100==== train_acc: 0.996299   train_loss: 0.008244   Current_lr: 0.000010  \n"
     ]
    },
    {
     "name": "stderr",
     "output_type": "stream",
     "text": [
      "\r",
      " 72%|██████████████████████████████████████████████████████████▎                      | 72/100 [29:48<11:16, 24.17s/it]"
     ]
    },
    {
     "name": "stdout",
     "output_type": "stream",
     "text": [
      "testing loss is 1.01229,testing Acc is 0.86121\n",
      "epoch: 72/100==== train_acc: 0.995888   train_loss: 0.010056   Current_lr: 0.000010  \n"
     ]
    },
    {
     "name": "stderr",
     "output_type": "stream",
     "text": [
      "\r",
      " 73%|███████████████████████████████████████████████████████████▏                     | 73/100 [30:12<10:51, 24.14s/it]"
     ]
    },
    {
     "name": "stdout",
     "output_type": "stream",
     "text": [
      "testing loss is 1.02782,testing Acc is 0.85386\n",
      "epoch: 73/100==== train_acc: 0.997944   train_loss: 0.006254   Current_lr: 0.000010  \n"
     ]
    },
    {
     "name": "stderr",
     "output_type": "stream",
     "text": [
      "\r",
      " 74%|███████████████████████████████████████████████████████████▉                     | 74/100 [30:36<10:27, 24.13s/it]"
     ]
    },
    {
     "name": "stdout",
     "output_type": "stream",
     "text": [
      "testing loss is 1.13925,testing Acc is 0.84651\n",
      "epoch: 74/100==== train_acc: 0.996711   train_loss: 0.005880   Current_lr: 0.000010  \n"
     ]
    },
    {
     "name": "stderr",
     "output_type": "stream",
     "text": [
      "\r",
      " 75%|████████████████████████████████████████████████████████████▊                    | 75/100 [31:00<10:02, 24.10s/it]"
     ]
    },
    {
     "name": "stdout",
     "output_type": "stream",
     "text": [
      "testing loss is 1.10207,testing Acc is 0.85754\n",
      "epoch: 75/100==== train_acc: 0.998355   train_loss: 0.005139   Current_lr: 0.000010  \n"
     ]
    },
    {
     "name": "stderr",
     "output_type": "stream",
     "text": [
      "\r",
      " 76%|█████████████████████████████████████████████████████████████▌                   | 76/100 [31:24<09:38, 24.10s/it]"
     ]
    },
    {
     "name": "stdout",
     "output_type": "stream",
     "text": [
      "testing loss is 1.32767,testing Acc is 0.84743\n",
      "epoch: 76/100==== train_acc: 0.997122   train_loss: 0.006626   Current_lr: 0.000010  \n"
     ]
    },
    {
     "name": "stderr",
     "output_type": "stream",
     "text": [
      "\r",
      " 77%|██████████████████████████████████████████████████████████████▎                  | 77/100 [31:48<09:14, 24.10s/it]"
     ]
    },
    {
     "name": "stdout",
     "output_type": "stream",
     "text": [
      "testing loss is 1.11657,testing Acc is 0.84651\n",
      "epoch: 77/100==== train_acc: 0.996711   train_loss: 0.008096   Current_lr: 0.000010  \n"
     ]
    },
    {
     "name": "stderr",
     "output_type": "stream",
     "text": [
      "\r",
      " 78%|███████████████████████████████████████████████████████████████▏                 | 78/100 [32:12<08:50, 24.09s/it]"
     ]
    },
    {
     "name": "stdout",
     "output_type": "stream",
     "text": [
      "testing loss is 1.07619,testing Acc is 0.83732\n",
      "epoch: 78/100==== train_acc: 0.995888   train_loss: 0.009929   Current_lr: 0.000010  \n"
     ]
    },
    {
     "name": "stderr",
     "output_type": "stream",
     "text": [
      "\r",
      " 79%|███████████████████████████████████████████████████████████████▉                 | 79/100 [32:36<08:25, 24.07s/it]"
     ]
    },
    {
     "name": "stdout",
     "output_type": "stream",
     "text": [
      "testing loss is 1.15471,testing Acc is 0.83915\n",
      "epoch: 79/100==== train_acc: 0.996711   train_loss: 0.009655   Current_lr: 0.000010  \n"
     ]
    },
    {
     "name": "stderr",
     "output_type": "stream",
     "text": [
      "\r",
      " 80%|████████████████████████████████████████████████████████████████▊                | 80/100 [33:00<08:01, 24.08s/it]"
     ]
    },
    {
     "name": "stdout",
     "output_type": "stream",
     "text": [
      "testing loss is 1.18933,testing Acc is 0.85110\n",
      "epoch: 80/100==== train_acc: 0.997533   train_loss: 0.006415   Current_lr: 0.000010  \n"
     ]
    },
    {
     "name": "stderr",
     "output_type": "stream",
     "text": [
      "\r",
      " 81%|█████████████████████████████████████████████████████████████████▌               | 81/100 [33:24<07:37, 24.08s/it]"
     ]
    },
    {
     "name": "stdout",
     "output_type": "stream",
     "text": [
      "testing loss is 0.99759,testing Acc is 0.85662\n",
      "epoch: 81/100==== train_acc: 0.995477   train_loss: 0.008395   Current_lr: 0.000010  \n"
     ]
    },
    {
     "name": "stderr",
     "output_type": "stream",
     "text": [
      "\r",
      " 82%|██████████████████████████████████████████████████████████████████▍              | 82/100 [33:48<07:13, 24.06s/it]"
     ]
    },
    {
     "name": "stdout",
     "output_type": "stream",
     "text": [
      "testing loss is 1.18549,testing Acc is 0.86121\n",
      "epoch: 82/100==== train_acc: 0.995888   train_loss: 0.012755   Current_lr: 0.000010  \n"
     ]
    },
    {
     "name": "stderr",
     "output_type": "stream",
     "text": [
      "\r",
      " 83%|███████████████████████████████████████████████████████████████████▏             | 83/100 [34:12<06:48, 24.05s/it]"
     ]
    },
    {
     "name": "stdout",
     "output_type": "stream",
     "text": [
      "testing loss is 1.16916,testing Acc is 0.84099\n",
      "epoch: 83/100==== train_acc: 0.996711   train_loss: 0.006279   Current_lr: 0.000010  \n"
     ]
    },
    {
     "name": "stderr",
     "output_type": "stream",
     "text": [
      "\r",
      " 84%|████████████████████████████████████████████████████████████████████             | 84/100 [34:37<06:24, 24.06s/it]"
     ]
    },
    {
     "name": "stdout",
     "output_type": "stream",
     "text": [
      "testing loss is 1.01129,testing Acc is 0.84099\n",
      "epoch: 84/100==== train_acc: 0.997533   train_loss: 0.005289   Current_lr: 0.000010  \n"
     ]
    },
    {
     "name": "stderr",
     "output_type": "stream",
     "text": [
      "\r",
      " 85%|████████████████████████████████████████████████████████████████████▊            | 85/100 [35:01<06:00, 24.07s/it]"
     ]
    },
    {
     "name": "stdout",
     "output_type": "stream",
     "text": [
      "testing loss is 0.97731,testing Acc is 0.85938\n",
      "epoch: 85/100==== train_acc: 0.996711   train_loss: 0.007040   Current_lr: 0.000010  \n"
     ]
    },
    {
     "name": "stderr",
     "output_type": "stream",
     "text": [
      "\r",
      " 86%|█████████████████████████████████████████████████████████████████████▋           | 86/100 [35:25<05:37, 24.08s/it]"
     ]
    },
    {
     "name": "stdout",
     "output_type": "stream",
     "text": [
      "testing loss is 1.07841,testing Acc is 0.84926\n",
      "epoch: 86/100==== train_acc: 0.995888   train_loss: 0.008569   Current_lr: 0.000010  \n"
     ]
    },
    {
     "name": "stderr",
     "output_type": "stream",
     "text": [
      "\r",
      " 87%|██████████████████████████████████████████████████████████████████████▍          | 87/100 [35:49<05:13, 24.08s/it]"
     ]
    },
    {
     "name": "stdout",
     "output_type": "stream",
     "text": [
      "testing loss is 1.05045,testing Acc is 0.85294\n",
      "epoch: 87/100==== train_acc: 0.998766   train_loss: 0.004503   Current_lr: 0.000010  \n"
     ]
    },
    {
     "name": "stderr",
     "output_type": "stream",
     "text": [
      "\r",
      " 88%|███████████████████████████████████████████████████████████████████████▎         | 88/100 [36:13<04:48, 24.07s/it]"
     ]
    },
    {
     "name": "stdout",
     "output_type": "stream",
     "text": [
      "testing loss is 1.15502,testing Acc is 0.84559\n",
      "epoch: 88/100==== train_acc: 0.997944   train_loss: 0.004381   Current_lr: 0.000010  \n"
     ]
    },
    {
     "name": "stderr",
     "output_type": "stream",
     "text": [
      "\r",
      " 89%|████████████████████████████████████████████████████████████████████████         | 89/100 [36:37<04:24, 24.07s/it]"
     ]
    },
    {
     "name": "stdout",
     "output_type": "stream",
     "text": [
      "testing loss is 1.18190,testing Acc is 0.84926\n",
      "epoch: 89/100==== train_acc: 0.996537   train_loss: 0.007860   Current_lr: 0.000010  \n"
     ]
    },
    {
     "name": "stderr",
     "output_type": "stream",
     "text": [
      "\r",
      " 90%|████████████████████████████████████████████████████████████████████████▉        | 90/100 [37:01<04:00, 24.04s/it]"
     ]
    },
    {
     "name": "stdout",
     "output_type": "stream",
     "text": [
      "testing loss is 1.07606,testing Acc is 0.86029\n",
      "epoch: 90/100==== train_acc: 0.998355   train_loss: 0.003575   Current_lr: 0.000010  \n"
     ]
    },
    {
     "name": "stderr",
     "output_type": "stream",
     "text": [
      "\r",
      " 91%|█████████████████████████████████████████████████████████████████████████▋       | 91/100 [37:25<03:36, 24.06s/it]"
     ]
    },
    {
     "name": "stdout",
     "output_type": "stream",
     "text": [
      "testing loss is 1.13351,testing Acc is 0.85478\n",
      "epoch: 91/100==== train_acc: 0.996299   train_loss: 0.006745   Current_lr: 0.000010  \n"
     ]
    },
    {
     "name": "stderr",
     "output_type": "stream",
     "text": [
      "\r",
      " 92%|██████████████████████████████████████████████████████████████████████████▌      | 92/100 [37:49<03:12, 24.06s/it]"
     ]
    },
    {
     "name": "stdout",
     "output_type": "stream",
     "text": [
      "testing loss is 1.24504,testing Acc is 0.84651\n",
      "epoch: 92/100==== train_acc: 0.998766   train_loss: 0.004250   Current_lr: 0.000010  \n"
     ]
    },
    {
     "name": "stderr",
     "output_type": "stream",
     "text": [
      "\r",
      " 93%|███████████████████████████████████████████████████████████████████████████▎     | 93/100 [38:13<02:48, 24.05s/it]"
     ]
    },
    {
     "name": "stdout",
     "output_type": "stream",
     "text": [
      "testing loss is 1.22887,testing Acc is 0.85018\n",
      "epoch: 93/100==== train_acc: 0.995477   train_loss: 0.007128   Current_lr: 0.000010  \n"
     ]
    },
    {
     "name": "stderr",
     "output_type": "stream",
     "text": [
      "\r",
      " 94%|████████████████████████████████████████████████████████████████████████████▏    | 94/100 [38:37<02:24, 24.06s/it]"
     ]
    },
    {
     "name": "stdout",
     "output_type": "stream",
     "text": [
      "testing loss is 1.23036,testing Acc is 0.85110\n",
      "epoch: 94/100==== train_acc: 0.996948   train_loss: 0.011055   Current_lr: 0.000010  \n"
     ]
    },
    {
     "name": "stderr",
     "output_type": "stream",
     "text": [
      "\r",
      " 95%|████████████████████████████████████████████████████████████████████████████▉    | 95/100 [39:01<02:00, 24.06s/it]"
     ]
    },
    {
     "name": "stdout",
     "output_type": "stream",
     "text": [
      "testing loss is 1.30438,testing Acc is 0.84191\n",
      "epoch: 95/100==== train_acc: 0.996711   train_loss: 0.007861   Current_lr: 0.000010  \n"
     ]
    },
    {
     "name": "stderr",
     "output_type": "stream",
     "text": [
      "\r",
      " 96%|█████████████████████████████████████████████████████████████████████████████▊   | 96/100 [39:25<01:36, 24.05s/it]"
     ]
    },
    {
     "name": "stdout",
     "output_type": "stream",
     "text": [
      "testing loss is 1.07519,testing Acc is 0.85386\n",
      "epoch: 96/100==== train_acc: 0.996711   train_loss: 0.005793   Current_lr: 0.000010  \n"
     ]
    },
    {
     "name": "stderr",
     "output_type": "stream",
     "text": [
      "\r",
      " 97%|██████████████████████████████████████████████████████████████████████████████▌  | 97/100 [39:49<01:12, 24.06s/it]"
     ]
    },
    {
     "name": "stdout",
     "output_type": "stream",
     "text": [
      "testing loss is 1.22384,testing Acc is 0.84835\n",
      "epoch: 97/100==== train_acc: 0.997122   train_loss: 0.005908   Current_lr: 0.000010  \n"
     ]
    },
    {
     "name": "stderr",
     "output_type": "stream",
     "text": [
      "\r",
      " 98%|███████████████████████████████████████████████████████████████████████████████▍ | 98/100 [40:13<00:48, 24.06s/it]"
     ]
    },
    {
     "name": "stdout",
     "output_type": "stream",
     "text": [
      "testing loss is 1.04817,testing Acc is 0.86213\n",
      "epoch: 98/100==== train_acc: 0.996711   train_loss: 0.007957   Current_lr: 0.000010  \n"
     ]
    },
    {
     "name": "stderr",
     "output_type": "stream",
     "text": [
      "\r",
      " 99%|████████████████████████████████████████████████████████████████████████████████▏| 99/100 [40:37<00:24, 24.05s/it]"
     ]
    },
    {
     "name": "stdout",
     "output_type": "stream",
     "text": [
      "testing loss is 1.27894,testing Acc is 0.84191\n",
      "epoch: 99/100==== train_acc: 0.997944   train_loss: 0.007807   Current_lr: 0.000010  \n"
     ]
    },
    {
     "name": "stderr",
     "output_type": "stream",
     "text": [
      "100%|████████████████████████████████████████████████████████████████████████████████| 100/100 [41:02<00:00, 24.62s/it]"
     ]
    },
    {
     "name": "stdout",
     "output_type": "stream",
     "text": [
      "testing loss is 1.10041,testing Acc is 0.85754\n"
     ]
    },
    {
     "name": "stderr",
     "output_type": "stream",
     "text": [
      "\n"
     ]
    }
   ],
   "source": [
    "train_path = './mouth/train'\n",
    "val_path = './mouth/val'\n",
    "\n",
    "transform = A.Compose([\n",
    "    A.HorizontalFlip(p=0.5),  #水平翻转\n",
    "    A.ShiftScaleRotate(shift_limit=0.1, scale_limit=0, rotate_limit=15, p=0.5),   # 平移、缩放和旋转\n",
    "#     A.Sharpen(alpha=(0.2, 0.5), lightness=(0.5, 1.0), p=0.5),  # 锐化操作\n",
    "#     A.ColorJitter(brightness=0.2, contrast=0.2, saturation=0.2, hue=0.2, p=0.5),    # 颜色抖动\n",
    "#     A.Normalize(mean=(0.485, 0.456, 0.406), std=(0.229, 0.224, 0.225)),\n",
    "    ToTensorV2(),\n",
    "])\n",
    "\n",
    "tf = A.Compose([\n",
    "    ToTensorV2(),\n",
    "])\n",
    "## 构建MyDataset实例\n",
    "train_data = SmileDataset(data_dir=train_dir, transform=transform)\n",
    "valid_data = SmileDataset(data_dir=valid_dir, transform=tf)\n",
    "model_dir = 'vgg16_2'\n",
    "batchSize = 64\n",
    "score = train_net(vgg16, train_data, valid_data, model_dir, batch=batchSize, epochs=100, lr=0.0001)"
   ]
  },
  {
   "cell_type": "code",
   "execution_count": 7,
   "id": "c86fb7e6",
   "metadata": {},
   "outputs": [
    {
     "name": "stdout",
     "output_type": "stream",
     "text": [
      "testing loss is 0.00864,testing Acc is 0.99725\n"
     ]
    }
   ],
   "source": [
    "import torch\n",
    "\n",
    "pthfile = './vgg16/Model_epoch%21.pth'\n",
    "model = torch.load(pthfile)\n",
    "device = 'cuda'\n",
    "model.to(device)\n",
    "loss_func = nn.CrossEntropyLoss()\n",
    "\n",
    "val_path = './data/val'\n",
    "## transforms模块，进行数据预处理\n",
    "norm_mean = [0.485, 0.456, 0.406]\n",
    "norm_std = [0.229, 0.224, 0.225]\n",
    "\n",
    "tf = A.Compose([\n",
    "    ToTensorV2(),\n",
    "])\n",
    "## 构建MyDataset实例\n",
    "valid_data = SmileDataset(data_dir=train_path, transform=tf)\n",
    "test_process(model,64,valid_data, loss_func)"
   ]
  },
  {
   "cell_type": "code",
   "execution_count": 11,
   "id": "5bcb85dc",
   "metadata": {},
   "outputs": [],
   "source": [
    "def ploting(dataloader, model, val_path):\n",
    "    test_data =  SmileDataset(val_path)\n",
    "    test_loader = DataLoader(test_data,batch_size=64)\n",
    "    model.eval()\n",
    "    pred_test = np.array([])\n",
    "    y_test = np.array([])\n",
    "    with torch.no_grad():\n",
    "        for X, y in dataloader:\n",
    "            X, y = X.to(device).float(), y.to(device).long()\n",
    "            pred = model(X)\n",
    "            pred = nn.functional.softmax(pred, dim=1)\n",
    "            y = y.detach().cpu().numpy()\n",
    "            pred = pred.detach().cpu().numpy()\n",
    "            pred_test = np.append(pred_test, pred.argmax(axis=1), axis=0)\n",
    "            y_test = np.append(y_test,y, axis=0)\n",
    "    confusion_matrix_result = metrics.confusion_matrix(pred_test,y_test)\n",
    "    print('The confusion matrix result:\\n',confusion_matrix_result)       # 利用热力图对于结果进行可视化\n",
    "    plt.figure(figsize=(8, 6))\n",
    "    sns.heatmap(confusion_matrix_result, annot=True, cmap='Blues')\n",
    "    plt.xlabel('Predicted labels')\n",
    "    plt.ylabel('True labels')\n",
    "    plt.show() "
   ]
  },
  {
   "cell_type": "code",
   "execution_count": 12,
   "id": "7b899373",
   "metadata": {},
   "outputs": [
    {
     "name": "stdout",
     "output_type": "stream",
     "text": [
      "The confusion matrix result:\n",
      " [[693  66   4]\n",
      " [ 52 195   8]\n",
      " [  3  12  54]]\n"
     ]
    },
    {
     "data": {
      "image/png": "[encoded data removed]",
      "text/plain": [
       "<Figure size 800x600 with 2 Axes>"
      ]
     },
     "metadata": {},
     "output_type": "display_data"
    }
   ],
   "source": [
    "from sklearn import metrics\n",
    "import matplotlib.pyplot as plt\n",
    "import seaborn as sns\n",
    "val_path = './data/val'\n",
    "ploting(valid_loader, model,val_path)"
   ]
  },
  {
   "cell_type": "code",
   "execution_count": 16,
   "id": "0b03b4d9",
   "metadata": {},
   "outputs": [
    {
     "name": "stdout",
     "output_type": "stream",
     "text": [
      "Predicted class: 1\n",
      "Predicted scores: tensor([[0.1668, 0.8213, 0.0119]], device='cuda:0', grad_fn=<SoftmaxBackward0>)\n",
      "Gradients computed\n"
     ]
    },
    {
     "data": {
      "image/png": "[encoded data removed]",
      "text/plain": [
       "<Figure size 640x480 with 1 Axes>"
      ]
     },
     "metadata": {},
     "output_type": "display_data"
    }
   ],
   "source": [
    "import torch\n",
    "import torch.nn.functional as F\n",
    "from torchvision import models, transforms\n",
    "from PIL import Image\n",
    "import numpy as np\n",
    "import matplotlib.pyplot as plt\n",
    "import os\n",
    "os.environ[\"KMP_DUPLICATE_LIB_OK\"] = \"TRUE\"\n",
    "\n",
    "# 加载预训练的 VGG16 模型\n",
    "pthfile = './vgg16/Model_epoch%21.pth'\n",
    "model = torch.load(pthfile)\n",
    "device = 'cuda'\n",
    "model.to(device)\n",
    "model.eval()\n",
    "\n",
    "# 准备输入图像的变换\n",
    "preprocess = transforms.Compose([\n",
    "    transforms.Resize((128, 128)),\n",
    "    transforms.ToTensor(),\n",
    "    transforms.Normalize(mean=[0.485, 0.456, 0.406], std=[0.229, 0.224, 0.225]),\n",
    "])\n",
    "\n",
    "# 加载图像并应用变换\n",
    "img_path = './data/val/2/3-70-2.jpg'\n",
    "img = Image.open(img_path).convert('RGB')\n",
    "img_tensor = preprocess(img).unsqueeze(0).to(device)\n",
    "\n",
    "# 确保输入图像的梯度被计算\n",
    "img_tensor.requires_grad = True\n",
    "\n",
    "# 获取最后一个卷积层的输出\n",
    "def hook_feature(module, input, output):\n",
    "    global feature\n",
    "    feature = output\n",
    "    feature.retain_grad()  # 保留 feature 张量的梯度\n",
    "\n",
    "\n",
    "# 注册钩子\n",
    "hook = model.features[-3].register_forward_hook(hook_feature)\n",
    "\n",
    "# 前向传播\n",
    "output = model(img_tensor)\n",
    "\n",
    "# 获取预测分数和类别\n",
    "pred_scores = F.softmax(output, dim=1)\n",
    "pred_class = pred_scores.argmax(dim=1).item()\n",
    "\n",
    "print(f\"Predicted class: {pred_class}\")\n",
    "print(f\"Predicted scores: {pred_scores}\")\n",
    "\n",
    "# 反向传播获取梯度\n",
    "model.zero_grad()\n",
    "one_hot_output = torch.zeros((1, output.size()[-1]), dtype=torch.float32, device=output.device)\n",
    "one_hot_output[0][pred_class] = 2\n",
    "output.backward(gradient=one_hot_output, retain_graph=True)\n",
    "\n",
    "# 检查特征图是否正确计算了梯度\n",
    "if feature is None:\n",
    "    print(\"Feature is None. Ensure hook function is correctly set.\")\n",
    "elif feature.grad is None:\n",
    "    print(\"Feature gradients are None. Ensure backward pass is done correctly.\")\n",
    "else:\n",
    "    gradients = feature.grad[0]\n",
    "    print(\"Gradients computed\")\n",
    "\n",
    "    # 计算权重\n",
    "    weights = torch.mean(gradients, dim=[1, 2], keepdim=True)\n",
    "    cam = torch.sum(weights * feature[0], dim=0)\n",
    "\n",
    "    # 将 CAM 标准化\n",
    "    cam = F.relu(cam)\n",
    "    cam = cam - cam.min()\n",
    "    cam = cam / cam.max()\n",
    "\n",
    "    # 将 CAM 调整到输入图像的尺寸\n",
    "    cam = cam.detach().cpu().numpy()\n",
    "    cam = np.uint8(255 * cam)\n",
    "    cam = Image.fromarray(cam).resize(img.size, Image.LANCZOS)\n",
    "    cam = np.array(cam)\n",
    "\n",
    "    # 可视化热力图\n",
    "    fig, ax = plt.subplots()\n",
    "    ax.imshow(img)\n",
    "    ax.imshow(cam, cmap='jet', alpha=0.5)\n",
    "    plt.show()\n"
   ]
  },
  {
   "cell_type": "code",
   "execution_count": null,
   "id": "bd2c573c",
   "metadata": {},
   "outputs": [],
   "source": []
  }
 ],
 "metadata": {
  "kernelspec": {
   "display_name": "torch",
   "language": "python",
   "name": "torch"
  },
  "language_info": {
   "codemirror_mode": {
    "name": "ipython",
    "version": 3
   },
   "file_extension": ".py",
   "mimetype": "text/x-python",
   "name": "python",
   "nbconvert_exporter": "python",
   "pygments_lexer": "ipython3",
   "version": "3.9.19"
  }
 },
 "nbformat": 4,
 "nbformat_minor": 5
}
