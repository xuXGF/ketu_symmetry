{
 "cells": [
  {
   "cell_type": "code",
   "execution_count": 46,
   "id": "8f8b2f10-781e-406e-8402-0ab1dffcb0af",
   "metadata": {},
   "outputs": [],
   "source": [
    "import pandas as pd\n",
    "import numpy as np\n",
    "import requests\n",
    "from tqdm import tqdm\n",
    "import time"
   ]
  },
  {
   "cell_type": "code",
   "execution_count": 4,
   "id": "ed5eeb06-e062-45c0-9192-8843d0b9a1ca",
   "metadata": {
    "scrolled": true
   },
   "outputs": [
    {
     "data": {
      "text/html": [
       "<div>\n",
       "<style scoped>\n",
       "    .dataframe tbody tr th:only-of-type {\n",
       "        vertical-align: middle;\n",
       "    }\n",
       "\n",
       "    .dataframe tbody tr th {\n",
       "        vertical-align: top;\n",
       "    }\n",
       "\n",
       "    .dataframe thead th {\n",
       "        text-align: right;\n",
       "    }\n",
       "</style>\n",
       "<table border=\"1\" class=\"dataframe\">\n",
       "  <thead>\n",
       "    <tr style=\"text-align: right;\">\n",
       "      <th></th>\n",
       "      <th>姓名</th>\n",
       "      <th>年龄</th>\n",
       "      <th>性别</th>\n",
       "      <th>牙列期</th>\n",
       "      <th>左侧上颌窦位置</th>\n",
       "      <th>右侧上颌窦位置</th>\n",
       "      <th>髁突形态</th>\n",
       "      <th>髁突对称性</th>\n",
       "      <th>牙缺失</th>\n",
       "      <th>乳牙滞留</th>\n",
       "      <th>...</th>\n",
       "      <th>牙根</th>\n",
       "      <th>根尖周炎</th>\n",
       "      <th>下颌升支</th>\n",
       "      <th>牙槽骨吸收</th>\n",
       "      <th>骨岛</th>\n",
       "      <th>多生牙</th>\n",
       "      <th>牙体充填</th>\n",
       "      <th>根管治疗</th>\n",
       "      <th>牙齿龋坏</th>\n",
       "      <th>地址</th>\n",
       "    </tr>\n",
       "  </thead>\n",
       "  <tbody>\n",
       "    <tr>\n",
       "      <th>0</th>\n",
       "      <td>测试08231</td>\n",
       "      <td>4</td>\n",
       "      <td>女</td>\n",
       "      <td>恒牙列期</td>\n",
       "      <td>NaN</td>\n",
       "      <td>NaN</td>\n",
       "      <td>左侧髁突形态异常</td>\n",
       "      <td>髁突不对称</td>\n",
       "      <td>NaN</td>\n",
       "      <td>NaN</td>\n",
       "      <td>...</td>\n",
       "      <td>NaN</td>\n",
       "      <td>NaN</td>\n",
       "      <td>下颌升支不对称</td>\n",
       "      <td>NaN</td>\n",
       "      <td>1,2,3骨岛</td>\n",
       "      <td>1,5多生牙</td>\n",
       "      <td>NaN</td>\n",
       "      <td>NaN</td>\n",
       "      <td>NaN</td>\n",
       "      <td>https://zby-base-bucket.oss-cn-beijing.aliyunc...</td>\n",
       "    </tr>\n",
       "    <tr>\n",
       "      <th>1</th>\n",
       "      <td>测试08232</td>\n",
       "      <td>16</td>\n",
       "      <td>女</td>\n",
       "      <td>恒牙列期</td>\n",
       "      <td>NaN</td>\n",
       "      <td>NaN</td>\n",
       "      <td>髁突形态基本正常</td>\n",
       "      <td>髁突基本对称</td>\n",
       "      <td>NaN</td>\n",
       "      <td>NaN</td>\n",
       "      <td>...</td>\n",
       "      <td>NaN</td>\n",
       "      <td>NaN</td>\n",
       "      <td>下颌升支基本对称</td>\n",
       "      <td>NaN</td>\n",
       "      <td>无骨岛</td>\n",
       "      <td>无多生牙</td>\n",
       "      <td>NaN</td>\n",
       "      <td>NaN</td>\n",
       "      <td>NaN</td>\n",
       "      <td>https://zby-base-bucket.oss-cn-beijing.aliyunc...</td>\n",
       "    </tr>\n",
       "    <tr>\n",
       "      <th>2</th>\n",
       "      <td>菜three</td>\n",
       "      <td>11</td>\n",
       "      <td>男</td>\n",
       "      <td>恒牙列期</td>\n",
       "      <td>NaN</td>\n",
       "      <td>NaN</td>\n",
       "      <td>左侧髁突形态异常</td>\n",
       "      <td>髁突不对称</td>\n",
       "      <td>NaN</td>\n",
       "      <td>NaN</td>\n",
       "      <td>...</td>\n",
       "      <td>NaN</td>\n",
       "      <td>NaN</td>\n",
       "      <td>下颌升支不对称</td>\n",
       "      <td>NaN</td>\n",
       "      <td>无骨岛</td>\n",
       "      <td>无多生牙</td>\n",
       "      <td>NaN</td>\n",
       "      <td>NaN</td>\n",
       "      <td>[\"36\",\"46\"]牙龋坏</td>\n",
       "      <td>https://zby-base-bucket.oss-cn-beijing.aliyunc...</td>\n",
       "    </tr>\n",
       "    <tr>\n",
       "      <th>3</th>\n",
       "      <td>李佳奇</td>\n",
       "      <td>25</td>\n",
       "      <td>男</td>\n",
       "      <td>恒牙列期</td>\n",
       "      <td>NaN</td>\n",
       "      <td>NaN</td>\n",
       "      <td>左侧髁突形态异常</td>\n",
       "      <td>髁突不对称</td>\n",
       "      <td>NaN</td>\n",
       "      <td>NaN</td>\n",
       "      <td>...</td>\n",
       "      <td>NaN</td>\n",
       "      <td>NaN</td>\n",
       "      <td>下颌升支基本对称</td>\n",
       "      <td>NaN</td>\n",
       "      <td>无骨岛</td>\n",
       "      <td>无多生牙</td>\n",
       "      <td>NaN</td>\n",
       "      <td>NaN</td>\n",
       "      <td>NaN</td>\n",
       "      <td>https://zby-base-bucket.oss-cn-beijing.aliyunc...</td>\n",
       "    </tr>\n",
       "    <tr>\n",
       "      <th>4</th>\n",
       "      <td>邓锐琦</td>\n",
       "      <td>14</td>\n",
       "      <td>女</td>\n",
       "      <td>恒牙列期</td>\n",
       "      <td>NaN</td>\n",
       "      <td>NaN</td>\n",
       "      <td>左侧髁突形态异常</td>\n",
       "      <td>髁突不对称</td>\n",
       "      <td>NaN</td>\n",
       "      <td>NaN</td>\n",
       "      <td>...</td>\n",
       "      <td>NaN</td>\n",
       "      <td>NaN</td>\n",
       "      <td>下颌升支基本对称</td>\n",
       "      <td>NaN</td>\n",
       "      <td>无骨岛</td>\n",
       "      <td>无多生牙</td>\n",
       "      <td>NaN</td>\n",
       "      <td>NaN</td>\n",
       "      <td>[\"26\"]牙龋坏</td>\n",
       "      <td>https://zby-base-bucket.oss-cn-beijing.aliyunc...</td>\n",
       "    </tr>\n",
       "    <tr>\n",
       "      <th>...</th>\n",
       "      <td>...</td>\n",
       "      <td>...</td>\n",
       "      <td>...</td>\n",
       "      <td>...</td>\n",
       "      <td>...</td>\n",
       "      <td>...</td>\n",
       "      <td>...</td>\n",
       "      <td>...</td>\n",
       "      <td>...</td>\n",
       "      <td>...</td>\n",
       "      <td>...</td>\n",
       "      <td>...</td>\n",
       "      <td>...</td>\n",
       "      <td>...</td>\n",
       "      <td>...</td>\n",
       "      <td>...</td>\n",
       "      <td>...</td>\n",
       "      <td>...</td>\n",
       "      <td>...</td>\n",
       "      <td>...</td>\n",
       "      <td>...</td>\n",
       "    </tr>\n",
       "    <tr>\n",
       "      <th>2682</th>\n",
       "      <td>令狐红红</td>\n",
       "      <td>27</td>\n",
       "      <td>女</td>\n",
       "      <td>恒牙列期</td>\n",
       "      <td>左侧牙根与上颌窦底接触</td>\n",
       "      <td>右侧牙根与上颌窦底接触</td>\n",
       "      <td>双侧髁突形态异常</td>\n",
       "      <td>髁突不对称</td>\n",
       "      <td>NaN</td>\n",
       "      <td>[\"63\"]乳牙滞留</td>\n",
       "      <td>...</td>\n",
       "      <td>NaN</td>\n",
       "      <td>NaN</td>\n",
       "      <td>下颌升支不对称</td>\n",
       "      <td>轻度牙槽骨吸收</td>\n",
       "      <td>33根尖，36根尖，43/44根间骨岛</td>\n",
       "      <td>无多生牙</td>\n",
       "      <td>NaN</td>\n",
       "      <td>NaN</td>\n",
       "      <td>[\"18\",\"36\",\"47\",\"48\",\"63\"]牙龋坏</td>\n",
       "      <td>https://zby-base-bucket.oss-cn-beijing.aliyunc...</td>\n",
       "    </tr>\n",
       "    <tr>\n",
       "      <th>2683</th>\n",
       "      <td>李艺婷</td>\n",
       "      <td>11</td>\n",
       "      <td>女</td>\n",
       "      <td>混合牙列期</td>\n",
       "      <td>左侧牙根与上颌窦底接触</td>\n",
       "      <td>右侧牙根与上颌窦底接触</td>\n",
       "      <td>髁突形态基本正常</td>\n",
       "      <td>髁突基本对称</td>\n",
       "      <td>NaN</td>\n",
       "      <td>NaN</td>\n",
       "      <td>...</td>\n",
       "      <td>NaN</td>\n",
       "      <td>[\"12\"]牙根尖周炎</td>\n",
       "      <td>下颌升支不对称</td>\n",
       "      <td>无牙槽骨吸收</td>\n",
       "      <td>无骨岛</td>\n",
       "      <td>无多生牙</td>\n",
       "      <td>NaN</td>\n",
       "      <td>NaN</td>\n",
       "      <td>NaN</td>\n",
       "      <td>https://zby-base-bucket.oss-cn-beijing.aliyunc...</td>\n",
       "    </tr>\n",
       "    <tr>\n",
       "      <th>2684</th>\n",
       "      <td>刘燕锦</td>\n",
       "      <td>11</td>\n",
       "      <td>女</td>\n",
       "      <td>混合牙列期</td>\n",
       "      <td>左侧牙根与上颌窦底接触</td>\n",
       "      <td>右侧牙根与上颌窦底接触</td>\n",
       "      <td>髁突形态基本正常</td>\n",
       "      <td>髁突基本对称</td>\n",
       "      <td>NaN</td>\n",
       "      <td>NaN</td>\n",
       "      <td>...</td>\n",
       "      <td>NaN</td>\n",
       "      <td>NaN</td>\n",
       "      <td>下颌升支基本对称</td>\n",
       "      <td>无牙槽骨吸收</td>\n",
       "      <td>无骨岛</td>\n",
       "      <td>无多生牙</td>\n",
       "      <td>[\"64\"]牙填充</td>\n",
       "      <td>NaN</td>\n",
       "      <td>[\"75\"]牙龋坏</td>\n",
       "      <td>https://zby-base-bucket.oss-cn-beijing.aliyunc...</td>\n",
       "    </tr>\n",
       "    <tr>\n",
       "      <th>2685</th>\n",
       "      <td>陈志翔</td>\n",
       "      <td>20</td>\n",
       "      <td>男</td>\n",
       "      <td>恒牙列期</td>\n",
       "      <td>左侧牙根与上颌窦底接触</td>\n",
       "      <td>右侧牙根与上颌窦底接触</td>\n",
       "      <td>双侧髁突形态异常</td>\n",
       "      <td>髁突不对称</td>\n",
       "      <td>NaN</td>\n",
       "      <td>NaN</td>\n",
       "      <td>...</td>\n",
       "      <td>NaN</td>\n",
       "      <td>NaN</td>\n",
       "      <td>下颌升支不对称</td>\n",
       "      <td>无牙槽骨吸收</td>\n",
       "      <td>无骨岛</td>\n",
       "      <td>无多生牙</td>\n",
       "      <td>NaN</td>\n",
       "      <td>NaN</td>\n",
       "      <td>NaN</td>\n",
       "      <td>https://zby-base-bucket.oss-cn-beijing.aliyunc...</td>\n",
       "    </tr>\n",
       "    <tr>\n",
       "      <th>2686</th>\n",
       "      <td>闻竹</td>\n",
       "      <td>16</td>\n",
       "      <td>女</td>\n",
       "      <td>恒牙列期</td>\n",
       "      <td>左侧牙根与上颌窦底接触</td>\n",
       "      <td>右侧牙根与上颌窦底接触</td>\n",
       "      <td>双侧髁突形态异常</td>\n",
       "      <td>髁突不对称</td>\n",
       "      <td>NaN</td>\n",
       "      <td>NaN</td>\n",
       "      <td>...</td>\n",
       "      <td>NaN</td>\n",
       "      <td>NaN</td>\n",
       "      <td>下颌升支不对称</td>\n",
       "      <td>无牙槽骨吸收</td>\n",
       "      <td>无骨岛</td>\n",
       "      <td>无多生牙</td>\n",
       "      <td>[\"47\"]牙填充</td>\n",
       "      <td>NaN</td>\n",
       "      <td>[\"45\"]牙龋坏</td>\n",
       "      <td>https://zby-base-bucket.oss-cn-beijing.aliyunc...</td>\n",
       "    </tr>\n",
       "  </tbody>\n",
       "</table>\n",
       "<p>2687 rows × 23 columns</p>\n",
       "</div>"
      ],
      "text/plain": [
       "           姓名  年龄 性别    牙列期      左侧上颌窦位置      右侧上颌窦位置      髁突形态   髁突对称性  牙缺失  \\\n",
       "0     测试08231   4  女   恒牙列期          NaN          NaN  左侧髁突形态异常   髁突不对称  NaN   \n",
       "1     测试08232  16  女   恒牙列期          NaN          NaN  髁突形态基本正常  髁突基本对称  NaN   \n",
       "2      菜three  11  男   恒牙列期          NaN          NaN  左侧髁突形态异常   髁突不对称  NaN   \n",
       "3         李佳奇  25  男   恒牙列期          NaN          NaN  左侧髁突形态异常   髁突不对称  NaN   \n",
       "4         邓锐琦  14  女   恒牙列期          NaN          NaN  左侧髁突形态异常   髁突不对称  NaN   \n",
       "...       ...  .. ..    ...          ...          ...       ...     ...  ...   \n",
       "2682     令狐红红  27  女   恒牙列期  左侧牙根与上颌窦底接触  右侧牙根与上颌窦底接触  双侧髁突形态异常   髁突不对称  NaN   \n",
       "2683      李艺婷  11  女  混合牙列期  左侧牙根与上颌窦底接触  右侧牙根与上颌窦底接触  髁突形态基本正常  髁突基本对称  NaN   \n",
       "2684      刘燕锦  11  女  混合牙列期  左侧牙根与上颌窦底接触  右侧牙根与上颌窦底接触  髁突形态基本正常  髁突基本对称  NaN   \n",
       "2685      陈志翔  20  男   恒牙列期  左侧牙根与上颌窦底接触  右侧牙根与上颌窦底接触  双侧髁突形态异常   髁突不对称  NaN   \n",
       "2686       闻竹  16  女   恒牙列期  左侧牙根与上颌窦底接触  右侧牙根与上颌窦底接触  双侧髁突形态异常   髁突不对称  NaN   \n",
       "\n",
       "            乳牙滞留  ...   牙根         根尖周炎      下颌升支    牙槽骨吸收  \\\n",
       "0            NaN  ...  NaN          NaN   下颌升支不对称      NaN   \n",
       "1            NaN  ...  NaN          NaN  下颌升支基本对称      NaN   \n",
       "2            NaN  ...  NaN          NaN   下颌升支不对称      NaN   \n",
       "3            NaN  ...  NaN          NaN  下颌升支基本对称      NaN   \n",
       "4            NaN  ...  NaN          NaN  下颌升支基本对称      NaN   \n",
       "...          ...  ...  ...          ...       ...      ...   \n",
       "2682  [\"63\"]乳牙滞留  ...  NaN          NaN   下颌升支不对称  轻度牙槽骨吸收   \n",
       "2683         NaN  ...  NaN  [\"12\"]牙根尖周炎   下颌升支不对称   无牙槽骨吸收   \n",
       "2684         NaN  ...  NaN          NaN  下颌升支基本对称   无牙槽骨吸收   \n",
       "2685         NaN  ...  NaN          NaN   下颌升支不对称   无牙槽骨吸收   \n",
       "2686         NaN  ...  NaN          NaN   下颌升支不对称   无牙槽骨吸收   \n",
       "\n",
       "                        骨岛     多生牙       牙体充填 根管治疗  \\\n",
       "0                  1,2,3骨岛  1,5多生牙        NaN  NaN   \n",
       "1                      无骨岛    无多生牙        NaN  NaN   \n",
       "2                      无骨岛    无多生牙        NaN  NaN   \n",
       "3                      无骨岛    无多生牙        NaN  NaN   \n",
       "4                      无骨岛    无多生牙        NaN  NaN   \n",
       "...                    ...     ...        ...  ...   \n",
       "2682   33根尖，36根尖，43/44根间骨岛    无多生牙        NaN  NaN   \n",
       "2683                   无骨岛    无多生牙        NaN  NaN   \n",
       "2684                   无骨岛    无多生牙  [\"64\"]牙填充  NaN   \n",
       "2685                   无骨岛    无多生牙        NaN  NaN   \n",
       "2686                   无骨岛    无多生牙  [\"47\"]牙填充  NaN   \n",
       "\n",
       "                               牙齿龋坏  \\\n",
       "0                               NaN   \n",
       "1                               NaN   \n",
       "2                    [\"36\",\"46\"]牙龋坏   \n",
       "3                               NaN   \n",
       "4                         [\"26\"]牙龋坏   \n",
       "...                             ...   \n",
       "2682  [\"18\",\"36\",\"47\",\"48\",\"63\"]牙龋坏   \n",
       "2683                            NaN   \n",
       "2684                      [\"75\"]牙龋坏   \n",
       "2685                            NaN   \n",
       "2686                      [\"45\"]牙龋坏   \n",
       "\n",
       "                                                     地址  \n",
       "0     https://zby-base-bucket.oss-cn-beijing.aliyunc...  \n",
       "1     https://zby-base-bucket.oss-cn-beijing.aliyunc...  \n",
       "2     https://zby-base-bucket.oss-cn-beijing.aliyunc...  \n",
       "3     https://zby-base-bucket.oss-cn-beijing.aliyunc...  \n",
       "4     https://zby-base-bucket.oss-cn-beijing.aliyunc...  \n",
       "...                                                 ...  \n",
       "2682  https://zby-base-bucket.oss-cn-beijing.aliyunc...  \n",
       "2683  https://zby-base-bucket.oss-cn-beijing.aliyunc...  \n",
       "2684  https://zby-base-bucket.oss-cn-beijing.aliyunc...  \n",
       "2685  https://zby-base-bucket.oss-cn-beijing.aliyunc...  \n",
       "2686  https://zby-base-bucket.oss-cn-beijing.aliyunc...  \n",
       "\n",
       "[2687 rows x 23 columns]"
      ]
     },
     "execution_count": 4,
     "metadata": {},
     "output_type": "execute_result"
    }
   ],
   "source": [
    "pd.read_excel('panorama6.xls')"
   ]
  },
  {
   "cell_type": "code",
   "execution_count": 6,
   "id": "509e3c86-e8b9-4119-82d4-0505de2236eb",
   "metadata": {
    "scrolled": true
   },
   "outputs": [],
   "source": [
    "data=pd.read_excel('panorama6.xls')[['髁突对称性','地址']]"
   ]
  },
  {
   "cell_type": "code",
   "execution_count": 10,
   "id": "bd4fffc6-bb33-4436-b971-1ff265bbefae",
   "metadata": {},
   "outputs": [
    {
     "data": {
      "text/plain": [
       "array(['髁突不对称', '髁突基本对称'], dtype=object)"
      ]
     },
     "execution_count": 10,
     "metadata": {},
     "output_type": "execute_result"
    }
   ],
   "source": [
    "np.unique(data['髁突对称性'])"
   ]
  },
  {
   "cell_type": "code",
   "execution_count": 15,
   "id": "2ed14a5f-0c1d-4dad-a827-9bb43a7e6e13",
   "metadata": {},
   "outputs": [],
   "source": [
    "No_ketu=data[data['髁突对称性']=='髁突不对称']"
   ]
  },
  {
   "cell_type": "code",
   "execution_count": 14,
   "id": "754135b9-ea57-47c1-a75b-3776b0b9c7a9",
   "metadata": {},
   "outputs": [],
   "source": [
    "yes_ketu=data[data['髁突对称性']=='髁突基本对称']"
   ]
  },
  {
   "cell_type": "code",
   "execution_count": 53,
   "id": "141248f0-5f81-479b-8621-817b86f3172a",
   "metadata": {},
   "outputs": [
    {
     "name": "stderr",
     "output_type": "stream",
     "text": [
      "2028it [2:07:16,  3.77s/it] \n"
     ]
    }
   ],
   "source": [
    "for i,value in tqdm(enumerate(No_ketu.values)):\n",
    "    time.sleep(3)\n",
    "    \n",
    "    name,url = value\n",
    "    try:\n",
    "        Response = requests.get(url)\n",
    "        img_path='pics_no_yse/no/no_{}.jpg'.format(i)\n",
    "        if Response.status_code == 200:\n",
    "            with open(img_path, 'wb') as file:\n",
    "                # 写入图片内容\n",
    "                file.write(Response.content)\n",
    "    except:\n",
    "        time.sleep(60)\n",
    "        try:\n",
    "            Response = requests.get(url)\n",
    "            img_path='pics_no_yse/no/no_{}.jpg'.format(i)\n",
    "            if Response.status_code == 200:\n",
    "                with open(img_path, 'wb') as file:\n",
    "                    # 写入图片内容\n",
    "                    file.write(Response.content)\n",
    "        except:\n",
    "            continue\n",
    "        \n"
   ]
  },
  {
   "cell_type": "code",
   "execution_count": 54,
   "id": "4c50c9a9-cff8-4fd5-b111-6539e951d6d4",
   "metadata": {},
   "outputs": [
    {
     "name": "stderr",
     "output_type": "stream",
     "text": [
      "659it [39:10,  3.57s/it]\n"
     ]
    }
   ],
   "source": [
    "for i,value in tqdm(enumerate(yes_ketu.values)):\n",
    "    name,url = value\n",
    "    time.sleep(3)\n",
    "    try:\n",
    "        Response = requests.get(url)\n",
    "        img_path=r'pics_no_yse/yes/yes_{}.jpg'.format(i)\n",
    "        if Response.status_code == 200:\n",
    "            with open(img_path, 'wb') as file:\n",
    "                # 写入图片内容\n",
    "                file.write(Response.content)\n",
    "    except:\n",
    "        try:\n",
    "            time.sleep(60)\n",
    "            Response = requests.get(url)\n",
    "            img_path=r'pics_no_yse/yes/yes_{}.jpg'.format(i)\n",
    "            if Response.status_code == 200:\n",
    "                with open(img_path, 'wb') as file:\n",
    "                    # 写入图片内容\n",
    "                    file.write(Response.content)\n",
    "        except:\n",
    "            continue"
   ]
  },
  {
   "cell_type": "code",
   "execution_count": 41,
   "id": "8eb81b7f-12e3-4afd-86f3-158eebada09b",
   "metadata": {},
   "outputs": [
    {
     "data": {
      "text/plain": [
       "200"
      ]
     },
     "execution_count": 41,
     "metadata": {},
     "output_type": "execute_result"
    }
   ],
   "source": [
    "Response.status_code"
   ]
  },
  {
   "cell_type": "code",
   "execution_count": 44,
   "id": "5a0a8fc6-a952-4a60-86bf-84a65aeecfbe",
   "metadata": {},
   "outputs": [
    {
     "data": {
      "text/plain": [
       "<Response [200]>"
      ]
     },
     "execution_count": 44,
     "metadata": {},
     "output_type": "execute_result"
    }
   ],
   "source": [
    "requests.get(url)"
   ]
  },
  {
   "cell_type": "code",
   "execution_count": 45,
   "id": "a7c2288b-45ab-4c3d-95c3-e54c690e2e3d",
   "metadata": {},
   "outputs": [
    {
     "data": {
      "text/plain": [
       "'https://zby-base-bucket.oss-cn-beijing.aliyuncs.com/Original/MedicalServer/jpg/e7950fe9-f88d-4057-99cb-a6e913a87ead.jpg?x-oss-process=image/auto-orient,1'"
      ]
     },
     "execution_count": 45,
     "metadata": {},
     "output_type": "execute_result"
    }
   ],
   "source": [
    "url\n"
   ]
  },
  {
   "cell_type": "code",
   "execution_count": null,
   "id": "f8d1b5e8-edc2-49b2-97fb-0a685149c6a9",
   "metadata": {},
   "outputs": [],
   "source": []
  },
  {
   "cell_type": "code",
   "execution_count": null,
   "id": "12e8e623-a19b-40e4-bc16-5caf77f4c045",
   "metadata": {},
   "outputs": [],
   "source": []
  },
  {
   "cell_type": "code",
   "execution_count": 1,
   "id": "900b3dda-a4e3-4c16-b13e-a614ad7d3424",
   "metadata": {},
   "outputs": [],
   "source": [
    "import cv2"
   ]
  },
  {
   "cell_type": "code",
   "execution_count": 56,
   "id": "ac42a795-29b9-4585-8353-1c00afa4f207",
   "metadata": {
    "scrolled": true
   },
   "outputs": [
    {
     "data": {
      "text/plain": [
       "array([[[  0,   0,   0],\n",
       "        [  0,   0,   0],\n",
       "        [  0,   0,   0],\n",
       "        ...,\n",
       "        [237, 237, 237],\n",
       "        [239, 239, 239],\n",
       "        [239, 239, 239]],\n",
       "\n",
       "       [[  0,   0,   0],\n",
       "        [  0,   0,   0],\n",
       "        [  0,   0,   0],\n",
       "        ...,\n",
       "        [237, 237, 237],\n",
       "        [238, 238, 238],\n",
       "        [239, 239, 239]],\n",
       "\n",
       "       [[  0,   0,   0],\n",
       "        [  0,   0,   0],\n",
       "        [  0,   0,   0],\n",
       "        ...,\n",
       "        [237, 237, 237],\n",
       "        [238, 238, 238],\n",
       "        [238, 238, 238]],\n",
       "\n",
       "       ...,\n",
       "\n",
       "       [[  0,   0,   0],\n",
       "        [  0,   0,   0],\n",
       "        [  0,   0,   0],\n",
       "        ...,\n",
       "        [246, 246, 246],\n",
       "        [246, 246, 246],\n",
       "        [246, 246, 246]],\n",
       "\n",
       "       [[  0,   0,   0],\n",
       "        [  0,   0,   0],\n",
       "        [  0,   0,   0],\n",
       "        ...,\n",
       "        [229, 229, 229],\n",
       "        [219, 219, 219],\n",
       "        [220, 220, 220]],\n",
       "\n",
       "       [[  0,   0,   0],\n",
       "        [  0,   0,   0],\n",
       "        [  0,   0,   0],\n",
       "        ...,\n",
       "        [194, 194, 194],\n",
       "        [179, 179, 179],\n",
       "        [180, 180, 180]]], dtype=uint8)"
      ]
     },
     "execution_count": 56,
     "metadata": {},
     "output_type": "execute_result"
    }
   ],
   "source": [
    "cv2.imread('pics_no_yse/no/no_4.jpg')"
   ]
  },
  {
   "cell_type": "code",
   "execution_count": null,
   "id": "3ac91a97-dc0b-45fb-a8e7-f2fd122f9fb9",
   "metadata": {},
   "outputs": [],
   "source": [
    "cv2.imshow('11'\n",
    "           ,cv2.imread('pics_no_yse/no/no_4.jpg'))\n",
    "cv2.waitKey(0)"
   ]
  },
  {
   "cell_type": "code",
   "execution_count": 58,
   "id": "1f200d37-ee5c-4795-81f1-b30611e4aa44",
   "metadata": {},
   "outputs": [],
   "source": [
    "A=cv2.imread('pics_no_yse/no/no_4.jpg')"
   ]
  },
  {
   "cell_type": "code",
   "execution_count": 59,
   "id": "a2db81e9-4e5f-4b2a-873a-257832bd9b76",
   "metadata": {},
   "outputs": [
    {
     "data": {
      "text/plain": [
       "(1372, 2708, 3)"
      ]
     },
     "execution_count": 59,
     "metadata": {},
     "output_type": "execute_result"
    }
   ],
   "source": [
    "A.shape"
   ]
  },
  {
   "cell_type": "code",
   "execution_count": null,
   "id": "4b862e69-3bfe-4346-a596-1fd52e3f49c8",
   "metadata": {},
   "outputs": [],
   "source": []
  }
 ],
 "metadata": {
  "kernelspec": {
   "display_name": "Python 3 (ipykernel)",
   "language": "python",
   "name": "python3"
  },
  "language_info": {
   "codemirror_mode": {
    "name": "ipython",
    "version": 3
   },
   "file_extension": ".py",
   "mimetype": "text/x-python",
   "name": "python",
   "nbconvert_exporter": "python",
   "pygments_lexer": "ipython3",
   "version": "3.8.10"
  }
 },
 "nbformat": 4,
 "nbformat_minor": 5
}
