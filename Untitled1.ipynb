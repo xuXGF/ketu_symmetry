{
 "cells": [
  {
   "cell_type": "code",
   "execution_count": null,
   "id": "7e065588-7776-4ce5-b0d9-b1e4cd5c1351",
   "metadata": {},
   "outputs": [],
   "source": []
  }
 ],
 "metadata": {
  "kernelspec": {
   "display_name": "",
   "name": ""
  },
  "language_info": {
   "name": ""
  }
 },
 "nbformat": 4,
 "nbformat_minor": 5
}
